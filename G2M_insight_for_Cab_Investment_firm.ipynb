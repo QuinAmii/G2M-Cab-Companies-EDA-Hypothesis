{
  "cells": [
    {
      "cell_type": "markdown",
      "metadata": {
        "id": "view-in-github",
        "colab_type": "text"
      },
      "source": [
        "<a href=\"https://colab.research.google.com/github/QuinAmii/G2M-Cab-EDA-Hypotheis/blob/main/G2M_insight_for_Cab_Investment_firm.ipynb\" target=\"_parent\"><img src=\"https://colab.research.google.com/assets/colab-badge.svg\" alt=\"Open In Colab\"/></a>"
      ]
    },
    {
      "cell_type": "markdown",
      "metadata": {
        "id": "3hLAKT_LRC-X"
      },
      "source": [
        "### **G2M insight for Cab Investment firm**"
      ]
    },
    {
      "cell_type": "code",
      "execution_count": 1,
      "metadata": {
        "id": "37126JrlQ7gp"
      },
      "outputs": [],
      "source": [
        "#Importing Libaries\n",
        "import pandas as pd\n",
        "import numpy as np\n",
        "import datetime\n",
        "import ast, json\n",
        "import warnings\n",
        "warnings.filterwarnings('ignore')\n",
        "import matplotlib.pyplot as plt\n",
        "%matplotlib inline\n",
        "import seaborn as sns\n",
        "sns.set()\n"
      ]
    },
    {
      "cell_type": "code",
      "execution_count": 4,
      "metadata": {
        "id": "aW-A-D8bfDJH"
      },
      "outputs": [],
      "source": [
        "#Importing datasets\n",
        "Data_Cab = pd.read_csv('/content/Cab_Data.csv')\n",
        "Customer_ID =  pd.read_csv(\"/content/Customer_ID .csv\")\n",
        "Transaction_ID = pd.read_csv(\"/content/Transaction_ID.csv\")\n",
        "City = pd.read_csv(\"/content/City.csv\")"
      ]
    },
    {
      "cell_type": "code",
      "execution_count": null,
      "metadata": {
        "colab": {
          "base_uri": "https://localhost:8080/",
          "height": 362
        },
        "id": "l5A0MXJ1ll0V",
        "outputId": "75084d3e-5fd8-4cae-b21f-7777b5db6a41"
      },
      "outputs": [
        {
          "output_type": "execute_result",
          "data": {
            "text/html": [
              "<div>\n",
              "<style scoped>\n",
              "    .dataframe tbody tr th:only-of-type {\n",
              "        vertical-align: middle;\n",
              "    }\n",
              "\n",
              "    .dataframe tbody tr th {\n",
              "        vertical-align: top;\n",
              "    }\n",
              "\n",
              "    .dataframe thead th {\n",
              "        text-align: right;\n",
              "    }\n",
              "</style>\n",
              "<table border=\"1\" class=\"dataframe\">\n",
              "  <thead>\n",
              "    <tr style=\"text-align: right;\">\n",
              "      <th></th>\n",
              "      <th>Transaction_ID</th>\n",
              "      <th>Date of Travel</th>\n",
              "      <th>Company</th>\n",
              "      <th>City</th>\n",
              "      <th>KM Travelled</th>\n",
              "      <th>Price Charged</th>\n",
              "      <th>Cost of Trip</th>\n",
              "    </tr>\n",
              "  </thead>\n",
              "  <tbody>\n",
              "    <tr>\n",
              "      <th>0</th>\n",
              "      <td>10000011</td>\n",
              "      <td>42377</td>\n",
              "      <td>Pink Cab</td>\n",
              "      <td>ATLANTA GA</td>\n",
              "      <td>30.45</td>\n",
              "      <td>370.95</td>\n",
              "      <td>313.635</td>\n",
              "    </tr>\n",
              "    <tr>\n",
              "      <th>1</th>\n",
              "      <td>10000012</td>\n",
              "      <td>42375</td>\n",
              "      <td>Pink Cab</td>\n",
              "      <td>ATLANTA GA</td>\n",
              "      <td>28.62</td>\n",
              "      <td>358.52</td>\n",
              "      <td>334.854</td>\n",
              "    </tr>\n",
              "    <tr>\n",
              "      <th>2</th>\n",
              "      <td>10000013</td>\n",
              "      <td>42371</td>\n",
              "      <td>Pink Cab</td>\n",
              "      <td>ATLANTA GA</td>\n",
              "      <td>9.04</td>\n",
              "      <td>125.20</td>\n",
              "      <td>97.632</td>\n",
              "    </tr>\n",
              "    <tr>\n",
              "      <th>3</th>\n",
              "      <td>10000014</td>\n",
              "      <td>42376</td>\n",
              "      <td>Pink Cab</td>\n",
              "      <td>ATLANTA GA</td>\n",
              "      <td>33.17</td>\n",
              "      <td>377.40</td>\n",
              "      <td>351.602</td>\n",
              "    </tr>\n",
              "    <tr>\n",
              "      <th>4</th>\n",
              "      <td>10000015</td>\n",
              "      <td>42372</td>\n",
              "      <td>Pink Cab</td>\n",
              "      <td>ATLANTA GA</td>\n",
              "      <td>8.73</td>\n",
              "      <td>114.62</td>\n",
              "      <td>97.776</td>\n",
              "    </tr>\n",
              "    <tr>\n",
              "      <th>5</th>\n",
              "      <td>10000016</td>\n",
              "      <td>42376</td>\n",
              "      <td>Pink Cab</td>\n",
              "      <td>ATLANTA GA</td>\n",
              "      <td>6.06</td>\n",
              "      <td>72.43</td>\n",
              "      <td>63.024</td>\n",
              "    </tr>\n",
              "    <tr>\n",
              "      <th>6</th>\n",
              "      <td>10000017</td>\n",
              "      <td>42372</td>\n",
              "      <td>Pink Cab</td>\n",
              "      <td>AUSTIN TX</td>\n",
              "      <td>44.00</td>\n",
              "      <td>576.15</td>\n",
              "      <td>475.200</td>\n",
              "    </tr>\n",
              "    <tr>\n",
              "      <th>7</th>\n",
              "      <td>10000018</td>\n",
              "      <td>42376</td>\n",
              "      <td>Pink Cab</td>\n",
              "      <td>AUSTIN TX</td>\n",
              "      <td>35.65</td>\n",
              "      <td>466.10</td>\n",
              "      <td>377.890</td>\n",
              "    </tr>\n",
              "    <tr>\n",
              "      <th>8</th>\n",
              "      <td>10000019</td>\n",
              "      <td>42381</td>\n",
              "      <td>Pink Cab</td>\n",
              "      <td>BOSTON MA</td>\n",
              "      <td>14.40</td>\n",
              "      <td>191.61</td>\n",
              "      <td>146.880</td>\n",
              "    </tr>\n",
              "    <tr>\n",
              "      <th>9</th>\n",
              "      <td>10000020</td>\n",
              "      <td>42375</td>\n",
              "      <td>Pink Cab</td>\n",
              "      <td>BOSTON MA</td>\n",
              "      <td>10.89</td>\n",
              "      <td>156.98</td>\n",
              "      <td>113.256</td>\n",
              "    </tr>\n",
              "  </tbody>\n",
              "</table>\n",
              "</div>"
            ],
            "text/plain": [
              "   Transaction_ID  Date of Travel  ... Price Charged Cost of Trip\n",
              "0        10000011           42377  ...        370.95      313.635\n",
              "1        10000012           42375  ...        358.52      334.854\n",
              "2        10000013           42371  ...        125.20       97.632\n",
              "3        10000014           42376  ...        377.40      351.602\n",
              "4        10000015           42372  ...        114.62       97.776\n",
              "5        10000016           42376  ...         72.43       63.024\n",
              "6        10000017           42372  ...        576.15      475.200\n",
              "7        10000018           42376  ...        466.10      377.890\n",
              "8        10000019           42381  ...        191.61      146.880\n",
              "9        10000020           42375  ...        156.98      113.256\n",
              "\n",
              "[10 rows x 7 columns]"
            ]
          },
          "metadata": {},
          "execution_count": 8
        }
      ],
      "source": [
        "#Displaying first 10 rows of the dataset\n",
        "Data_Cab.head(10)"
      ]
    },
    {
      "cell_type": "code",
      "execution_count": 8,
      "metadata": {
        "colab": {
          "base_uri": "https://localhost:8080/",
          "height": 362
        },
        "id": "hT02rVhFlv48",
        "outputId": "636265e8-5258-4828-e08c-0a0398a974bc"
      },
      "outputs": [
        {
          "output_type": "execute_result",
          "data": {
            "text/html": [
              "<div>\n",
              "<style scoped>\n",
              "    .dataframe tbody tr th:only-of-type {\n",
              "        vertical-align: middle;\n",
              "    }\n",
              "\n",
              "    .dataframe tbody tr th {\n",
              "        vertical-align: top;\n",
              "    }\n",
              "\n",
              "    .dataframe thead th {\n",
              "        text-align: right;\n",
              "    }\n",
              "</style>\n",
              "<table border=\"1\" class=\"dataframe\">\n",
              "  <thead>\n",
              "    <tr style=\"text-align: right;\">\n",
              "      <th></th>\n",
              "      <th>Transaction ID</th>\n",
              "      <th>Date of Travel</th>\n",
              "      <th>Company</th>\n",
              "      <th>City</th>\n",
              "      <th>KM Travelled</th>\n",
              "      <th>Price Charged</th>\n",
              "      <th>Cost of Trip</th>\n",
              "    </tr>\n",
              "  </thead>\n",
              "  <tbody>\n",
              "    <tr>\n",
              "      <th>359382</th>\n",
              "      <td>10440096</td>\n",
              "      <td>43103</td>\n",
              "      <td>Yellow Cab</td>\n",
              "      <td>WASHINGTON DC</td>\n",
              "      <td>34.24</td>\n",
              "      <td>458.64</td>\n",
              "      <td>472.5120</td>\n",
              "    </tr>\n",
              "    <tr>\n",
              "      <th>359383</th>\n",
              "      <td>10440097</td>\n",
              "      <td>43105</td>\n",
              "      <td>Yellow Cab</td>\n",
              "      <td>WASHINGTON DC</td>\n",
              "      <td>9.90</td>\n",
              "      <td>167.09</td>\n",
              "      <td>118.8000</td>\n",
              "    </tr>\n",
              "    <tr>\n",
              "      <th>359384</th>\n",
              "      <td>10440098</td>\n",
              "      <td>43105</td>\n",
              "      <td>Yellow Cab</td>\n",
              "      <td>WASHINGTON DC</td>\n",
              "      <td>21.84</td>\n",
              "      <td>358.77</td>\n",
              "      <td>285.6672</td>\n",
              "    </tr>\n",
              "    <tr>\n",
              "      <th>359385</th>\n",
              "      <td>10440099</td>\n",
              "      <td>43104</td>\n",
              "      <td>Yellow Cab</td>\n",
              "      <td>WASHINGTON DC</td>\n",
              "      <td>12.87</td>\n",
              "      <td>202.70</td>\n",
              "      <td>159.0732</td>\n",
              "    </tr>\n",
              "    <tr>\n",
              "      <th>359386</th>\n",
              "      <td>10440100</td>\n",
              "      <td>43107</td>\n",
              "      <td>Yellow Cab</td>\n",
              "      <td>WASHINGTON DC</td>\n",
              "      <td>28.71</td>\n",
              "      <td>452.19</td>\n",
              "      <td>351.4104</td>\n",
              "    </tr>\n",
              "    <tr>\n",
              "      <th>359387</th>\n",
              "      <td>10440101</td>\n",
              "      <td>43108</td>\n",
              "      <td>Yellow Cab</td>\n",
              "      <td>WASHINGTON DC</td>\n",
              "      <td>4.80</td>\n",
              "      <td>69.24</td>\n",
              "      <td>63.3600</td>\n",
              "    </tr>\n",
              "    <tr>\n",
              "      <th>359388</th>\n",
              "      <td>10440104</td>\n",
              "      <td>43104</td>\n",
              "      <td>Yellow Cab</td>\n",
              "      <td>WASHINGTON DC</td>\n",
              "      <td>8.40</td>\n",
              "      <td>113.75</td>\n",
              "      <td>106.8480</td>\n",
              "    </tr>\n",
              "    <tr>\n",
              "      <th>359389</th>\n",
              "      <td>10440105</td>\n",
              "      <td>43105</td>\n",
              "      <td>Yellow Cab</td>\n",
              "      <td>WASHINGTON DC</td>\n",
              "      <td>27.75</td>\n",
              "      <td>437.07</td>\n",
              "      <td>349.6500</td>\n",
              "    </tr>\n",
              "    <tr>\n",
              "      <th>359390</th>\n",
              "      <td>10440106</td>\n",
              "      <td>43105</td>\n",
              "      <td>Yellow Cab</td>\n",
              "      <td>WASHINGTON DC</td>\n",
              "      <td>8.80</td>\n",
              "      <td>146.19</td>\n",
              "      <td>114.0480</td>\n",
              "    </tr>\n",
              "    <tr>\n",
              "      <th>359391</th>\n",
              "      <td>10440107</td>\n",
              "      <td>43102</td>\n",
              "      <td>Yellow Cab</td>\n",
              "      <td>WASHINGTON DC</td>\n",
              "      <td>12.76</td>\n",
              "      <td>191.58</td>\n",
              "      <td>177.6192</td>\n",
              "    </tr>\n",
              "  </tbody>\n",
              "</table>\n",
              "</div>"
            ],
            "text/plain": [
              "        Transaction ID  Date of Travel  ... Price Charged Cost of Trip\n",
              "359382        10440096           43103  ...        458.64     472.5120\n",
              "359383        10440097           43105  ...        167.09     118.8000\n",
              "359384        10440098           43105  ...        358.77     285.6672\n",
              "359385        10440099           43104  ...        202.70     159.0732\n",
              "359386        10440100           43107  ...        452.19     351.4104\n",
              "359387        10440101           43108  ...         69.24      63.3600\n",
              "359388        10440104           43104  ...        113.75     106.8480\n",
              "359389        10440105           43105  ...        437.07     349.6500\n",
              "359390        10440106           43105  ...        146.19     114.0480\n",
              "359391        10440107           43102  ...        191.58     177.6192\n",
              "\n",
              "[10 rows x 7 columns]"
            ]
          },
          "metadata": {},
          "execution_count": 8
        }
      ],
      "source": [
        "#Displaying the least 10 of the dataset\n",
        "Data_Cab.tail(10)\n"
      ]
    },
    {
      "cell_type": "code",
      "execution_count": 9,
      "metadata": {
        "colab": {
          "base_uri": "https://localhost:8080/",
          "height": 362
        },
        "id": "rnqDb3ccl_-T",
        "outputId": "3fc87f68-2317-46b3-d9c5-f3b04d72e329"
      },
      "outputs": [
        {
          "output_type": "execute_result",
          "data": {
            "text/html": [
              "<div>\n",
              "<style scoped>\n",
              "    .dataframe tbody tr th:only-of-type {\n",
              "        vertical-align: middle;\n",
              "    }\n",
              "\n",
              "    .dataframe tbody tr th {\n",
              "        vertical-align: top;\n",
              "    }\n",
              "\n",
              "    .dataframe thead th {\n",
              "        text-align: right;\n",
              "    }\n",
              "</style>\n",
              "<table border=\"1\" class=\"dataframe\">\n",
              "  <thead>\n",
              "    <tr style=\"text-align: right;\">\n",
              "      <th></th>\n",
              "      <th>City</th>\n",
              "      <th>Population</th>\n",
              "      <th>Users</th>\n",
              "    </tr>\n",
              "  </thead>\n",
              "  <tbody>\n",
              "    <tr>\n",
              "      <th>0</th>\n",
              "      <td>NEW YORK NY</td>\n",
              "      <td>8,405,837</td>\n",
              "      <td>302,149</td>\n",
              "    </tr>\n",
              "    <tr>\n",
              "      <th>1</th>\n",
              "      <td>CHICAGO IL</td>\n",
              "      <td>1,955,130</td>\n",
              "      <td>164,468</td>\n",
              "    </tr>\n",
              "    <tr>\n",
              "      <th>2</th>\n",
              "      <td>LOS ANGELES CA</td>\n",
              "      <td>1,595,037</td>\n",
              "      <td>144,132</td>\n",
              "    </tr>\n",
              "    <tr>\n",
              "      <th>3</th>\n",
              "      <td>MIAMI FL</td>\n",
              "      <td>1,339,155</td>\n",
              "      <td>17,675</td>\n",
              "    </tr>\n",
              "    <tr>\n",
              "      <th>4</th>\n",
              "      <td>SILICON VALLEY</td>\n",
              "      <td>1,177,609</td>\n",
              "      <td>27,247</td>\n",
              "    </tr>\n",
              "    <tr>\n",
              "      <th>5</th>\n",
              "      <td>ORANGE COUNTY</td>\n",
              "      <td>1,030,185</td>\n",
              "      <td>12,994</td>\n",
              "    </tr>\n",
              "    <tr>\n",
              "      <th>6</th>\n",
              "      <td>SAN DIEGO CA</td>\n",
              "      <td>959,307</td>\n",
              "      <td>69,995</td>\n",
              "    </tr>\n",
              "    <tr>\n",
              "      <th>7</th>\n",
              "      <td>PHOENIX AZ</td>\n",
              "      <td>943,999</td>\n",
              "      <td>6,133</td>\n",
              "    </tr>\n",
              "    <tr>\n",
              "      <th>8</th>\n",
              "      <td>DALLAS TX</td>\n",
              "      <td>942,908</td>\n",
              "      <td>22,157</td>\n",
              "    </tr>\n",
              "    <tr>\n",
              "      <th>9</th>\n",
              "      <td>ATLANTA GA</td>\n",
              "      <td>814,885</td>\n",
              "      <td>24,701</td>\n",
              "    </tr>\n",
              "  </tbody>\n",
              "</table>\n",
              "</div>"
            ],
            "text/plain": [
              "             City   Population      Users\n",
              "0     NEW YORK NY   8,405,837    302,149 \n",
              "1      CHICAGO IL   1,955,130    164,468 \n",
              "2  LOS ANGELES CA   1,595,037    144,132 \n",
              "3        MIAMI FL   1,339,155     17,675 \n",
              "4  SILICON VALLEY   1,177,609     27,247 \n",
              "5   ORANGE COUNTY   1,030,185     12,994 \n",
              "6    SAN DIEGO CA     959,307     69,995 \n",
              "7      PHOENIX AZ     943,999      6,133 \n",
              "8       DALLAS TX     942,908     22,157 \n",
              "9      ATLANTA GA     814,885     24,701 "
            ]
          },
          "metadata": {},
          "execution_count": 9
        }
      ],
      "source": [
        "City.head(10)"
      ]
    },
    {
      "cell_type": "code",
      "execution_count": 10,
      "metadata": {
        "colab": {
          "base_uri": "https://localhost:8080/",
          "height": 362
        },
        "id": "zZ9W8Iskmm_U",
        "outputId": "ed908e38-d2ba-4971-eb89-4d6415a2f2b6"
      },
      "outputs": [
        {
          "output_type": "execute_result",
          "data": {
            "text/html": [
              "<div>\n",
              "<style scoped>\n",
              "    .dataframe tbody tr th:only-of-type {\n",
              "        vertical-align: middle;\n",
              "    }\n",
              "\n",
              "    .dataframe tbody tr th {\n",
              "        vertical-align: top;\n",
              "    }\n",
              "\n",
              "    .dataframe thead th {\n",
              "        text-align: right;\n",
              "    }\n",
              "</style>\n",
              "<table border=\"1\" class=\"dataframe\">\n",
              "  <thead>\n",
              "    <tr style=\"text-align: right;\">\n",
              "      <th></th>\n",
              "      <th>City</th>\n",
              "      <th>Population</th>\n",
              "      <th>Users</th>\n",
              "    </tr>\n",
              "  </thead>\n",
              "  <tbody>\n",
              "    <tr>\n",
              "      <th>10</th>\n",
              "      <td>DENVER CO</td>\n",
              "      <td>754,233</td>\n",
              "      <td>12,421</td>\n",
              "    </tr>\n",
              "    <tr>\n",
              "      <th>11</th>\n",
              "      <td>AUSTIN TX</td>\n",
              "      <td>698,371</td>\n",
              "      <td>14,978</td>\n",
              "    </tr>\n",
              "    <tr>\n",
              "      <th>12</th>\n",
              "      <td>SEATTLE WA</td>\n",
              "      <td>671,238</td>\n",
              "      <td>25,063</td>\n",
              "    </tr>\n",
              "    <tr>\n",
              "      <th>13</th>\n",
              "      <td>TUCSON AZ</td>\n",
              "      <td>631,442</td>\n",
              "      <td>5,712</td>\n",
              "    </tr>\n",
              "    <tr>\n",
              "      <th>14</th>\n",
              "      <td>SAN FRANCISCO CA</td>\n",
              "      <td>629,591</td>\n",
              "      <td>213,609</td>\n",
              "    </tr>\n",
              "    <tr>\n",
              "      <th>15</th>\n",
              "      <td>SACRAMENTO CA</td>\n",
              "      <td>545,776</td>\n",
              "      <td>7,044</td>\n",
              "    </tr>\n",
              "    <tr>\n",
              "      <th>16</th>\n",
              "      <td>PITTSBURGH PA</td>\n",
              "      <td>542,085</td>\n",
              "      <td>3,643</td>\n",
              "    </tr>\n",
              "    <tr>\n",
              "      <th>17</th>\n",
              "      <td>WASHINGTON DC</td>\n",
              "      <td>418,859</td>\n",
              "      <td>127,001</td>\n",
              "    </tr>\n",
              "    <tr>\n",
              "      <th>18</th>\n",
              "      <td>NASHVILLE TN</td>\n",
              "      <td>327,225</td>\n",
              "      <td>9,270</td>\n",
              "    </tr>\n",
              "    <tr>\n",
              "      <th>19</th>\n",
              "      <td>BOSTON MA</td>\n",
              "      <td>248,968</td>\n",
              "      <td>80,021</td>\n",
              "    </tr>\n",
              "  </tbody>\n",
              "</table>\n",
              "</div>"
            ],
            "text/plain": [
              "                City Population      Users\n",
              "10         DENVER CO   754,233     12,421 \n",
              "11         AUSTIN TX   698,371     14,978 \n",
              "12        SEATTLE WA   671,238     25,063 \n",
              "13         TUCSON AZ   631,442      5,712 \n",
              "14  SAN FRANCISCO CA   629,591    213,609 \n",
              "15     SACRAMENTO CA   545,776      7,044 \n",
              "16     PITTSBURGH PA   542,085      3,643 \n",
              "17     WASHINGTON DC   418,859    127,001 \n",
              "18      NASHVILLE TN   327,225      9,270 \n",
              "19         BOSTON MA   248,968     80,021 "
            ]
          },
          "metadata": {},
          "execution_count": 10
        }
      ],
      "source": [
        "City.tail(10)"
      ]
    },
    {
      "cell_type": "code",
      "execution_count": 11,
      "metadata": {
        "colab": {
          "base_uri": "https://localhost:8080/",
          "height": 362
        },
        "id": "wYzAd4kDmVnz",
        "outputId": "0fe2d959-2770-4683-991f-200b60e6570c"
      },
      "outputs": [
        {
          "output_type": "execute_result",
          "data": {
            "text/html": [
              "<div>\n",
              "<style scoped>\n",
              "    .dataframe tbody tr th:only-of-type {\n",
              "        vertical-align: middle;\n",
              "    }\n",
              "\n",
              "    .dataframe tbody tr th {\n",
              "        vertical-align: top;\n",
              "    }\n",
              "\n",
              "    .dataframe thead th {\n",
              "        text-align: right;\n",
              "    }\n",
              "</style>\n",
              "<table border=\"1\" class=\"dataframe\">\n",
              "  <thead>\n",
              "    <tr style=\"text-align: right;\">\n",
              "      <th></th>\n",
              "      <th>Customer_ID</th>\n",
              "      <th>Gender</th>\n",
              "      <th>Age</th>\n",
              "      <th>Income</th>\n",
              "    </tr>\n",
              "  </thead>\n",
              "  <tbody>\n",
              "    <tr>\n",
              "      <th>0</th>\n",
              "      <td>29290</td>\n",
              "      <td>Male</td>\n",
              "      <td>28</td>\n",
              "      <td>10813</td>\n",
              "    </tr>\n",
              "    <tr>\n",
              "      <th>1</th>\n",
              "      <td>27703</td>\n",
              "      <td>Male</td>\n",
              "      <td>27</td>\n",
              "      <td>9237</td>\n",
              "    </tr>\n",
              "    <tr>\n",
              "      <th>2</th>\n",
              "      <td>28712</td>\n",
              "      <td>Male</td>\n",
              "      <td>53</td>\n",
              "      <td>11242</td>\n",
              "    </tr>\n",
              "    <tr>\n",
              "      <th>3</th>\n",
              "      <td>28020</td>\n",
              "      <td>Male</td>\n",
              "      <td>23</td>\n",
              "      <td>23327</td>\n",
              "    </tr>\n",
              "    <tr>\n",
              "      <th>4</th>\n",
              "      <td>27182</td>\n",
              "      <td>Male</td>\n",
              "      <td>33</td>\n",
              "      <td>8536</td>\n",
              "    </tr>\n",
              "    <tr>\n",
              "      <th>5</th>\n",
              "      <td>27318</td>\n",
              "      <td>Male</td>\n",
              "      <td>25</td>\n",
              "      <td>13984</td>\n",
              "    </tr>\n",
              "    <tr>\n",
              "      <th>6</th>\n",
              "      <td>33788</td>\n",
              "      <td>Male</td>\n",
              "      <td>23</td>\n",
              "      <td>23788</td>\n",
              "    </tr>\n",
              "    <tr>\n",
              "      <th>7</th>\n",
              "      <td>34106</td>\n",
              "      <td>Male</td>\n",
              "      <td>19</td>\n",
              "      <td>19980</td>\n",
              "    </tr>\n",
              "    <tr>\n",
              "      <th>8</th>\n",
              "      <td>59799</td>\n",
              "      <td>Male</td>\n",
              "      <td>33</td>\n",
              "      <td>19271</td>\n",
              "    </tr>\n",
              "    <tr>\n",
              "      <th>9</th>\n",
              "      <td>57982</td>\n",
              "      <td>Male</td>\n",
              "      <td>57</td>\n",
              "      <td>5068</td>\n",
              "    </tr>\n",
              "  </tbody>\n",
              "</table>\n",
              "</div>"
            ],
            "text/plain": [
              "   Customer_ID Gender  Age  Income \n",
              "0        29290   Male   28    10813\n",
              "1        27703   Male   27     9237\n",
              "2        28712   Male   53    11242\n",
              "3        28020   Male   23    23327\n",
              "4        27182   Male   33     8536\n",
              "5        27318   Male   25    13984\n",
              "6        33788   Male   23    23788\n",
              "7        34106   Male   19    19980\n",
              "8        59799   Male   33    19271\n",
              "9        57982   Male   57     5068"
            ]
          },
          "metadata": {},
          "execution_count": 11
        }
      ],
      "source": [
        "Customer_ID.head(10)"
      ]
    },
    {
      "cell_type": "code",
      "execution_count": 12,
      "metadata": {
        "colab": {
          "base_uri": "https://localhost:8080/",
          "height": 206
        },
        "id": "I7z0QexlmtZT",
        "outputId": "1d39b68f-1c2b-472f-cceb-c14da02dcbb2"
      },
      "outputs": [
        {
          "output_type": "execute_result",
          "data": {
            "text/html": [
              "<div>\n",
              "<style scoped>\n",
              "    .dataframe tbody tr th:only-of-type {\n",
              "        vertical-align: middle;\n",
              "    }\n",
              "\n",
              "    .dataframe tbody tr th {\n",
              "        vertical-align: top;\n",
              "    }\n",
              "\n",
              "    .dataframe thead th {\n",
              "        text-align: right;\n",
              "    }\n",
              "</style>\n",
              "<table border=\"1\" class=\"dataframe\">\n",
              "  <thead>\n",
              "    <tr style=\"text-align: right;\">\n",
              "      <th></th>\n",
              "      <th>Customer_ID</th>\n",
              "      <th>Gender</th>\n",
              "      <th>Age</th>\n",
              "      <th>Income</th>\n",
              "    </tr>\n",
              "  </thead>\n",
              "  <tbody>\n",
              "    <tr>\n",
              "      <th>49166</th>\n",
              "      <td>12490</td>\n",
              "      <td>Male</td>\n",
              "      <td>33</td>\n",
              "      <td>18713</td>\n",
              "    </tr>\n",
              "    <tr>\n",
              "      <th>49167</th>\n",
              "      <td>14971</td>\n",
              "      <td>Male</td>\n",
              "      <td>30</td>\n",
              "      <td>15346</td>\n",
              "    </tr>\n",
              "    <tr>\n",
              "      <th>49168</th>\n",
              "      <td>41414</td>\n",
              "      <td>Male</td>\n",
              "      <td>38</td>\n",
              "      <td>3960</td>\n",
              "    </tr>\n",
              "    <tr>\n",
              "      <th>49169</th>\n",
              "      <td>41677</td>\n",
              "      <td>Male</td>\n",
              "      <td>23</td>\n",
              "      <td>19454</td>\n",
              "    </tr>\n",
              "    <tr>\n",
              "      <th>49170</th>\n",
              "      <td>39761</td>\n",
              "      <td>Female</td>\n",
              "      <td>32</td>\n",
              "      <td>10128</td>\n",
              "    </tr>\n",
              "  </tbody>\n",
              "</table>\n",
              "</div>"
            ],
            "text/plain": [
              "       Customer_ID  Gender  Age  Income \n",
              "49166        12490    Male   33    18713\n",
              "49167        14971    Male   30    15346\n",
              "49168        41414    Male   38     3960\n",
              "49169        41677    Male   23    19454\n",
              "49170        39761  Female   32    10128"
            ]
          },
          "metadata": {},
          "execution_count": 12
        }
      ],
      "source": [
        "Customer_ID.tail()"
      ]
    },
    {
      "cell_type": "code",
      "execution_count": 13,
      "metadata": {
        "colab": {
          "base_uri": "https://localhost:8080/",
          "height": 206
        },
        "id": "HegXpk3Wmc9R",
        "outputId": "74bd2006-9d97-4c73-d82c-ff84363f2c7b"
      },
      "outputs": [
        {
          "output_type": "execute_result",
          "data": {
            "text/html": [
              "<div>\n",
              "<style scoped>\n",
              "    .dataframe tbody tr th:only-of-type {\n",
              "        vertical-align: middle;\n",
              "    }\n",
              "\n",
              "    .dataframe tbody tr th {\n",
              "        vertical-align: top;\n",
              "    }\n",
              "\n",
              "    .dataframe thead th {\n",
              "        text-align: right;\n",
              "    }\n",
              "</style>\n",
              "<table border=\"1\" class=\"dataframe\">\n",
              "  <thead>\n",
              "    <tr style=\"text-align: right;\">\n",
              "      <th></th>\n",
              "      <th>Transaction ID</th>\n",
              "      <th>Customer_ID</th>\n",
              "      <th>Payment_Mode</th>\n",
              "    </tr>\n",
              "  </thead>\n",
              "  <tbody>\n",
              "    <tr>\n",
              "      <th>0</th>\n",
              "      <td>10000011</td>\n",
              "      <td>29290</td>\n",
              "      <td>Card</td>\n",
              "    </tr>\n",
              "    <tr>\n",
              "      <th>1</th>\n",
              "      <td>10000012</td>\n",
              "      <td>27703</td>\n",
              "      <td>Card</td>\n",
              "    </tr>\n",
              "    <tr>\n",
              "      <th>2</th>\n",
              "      <td>10000013</td>\n",
              "      <td>28712</td>\n",
              "      <td>Cash</td>\n",
              "    </tr>\n",
              "    <tr>\n",
              "      <th>3</th>\n",
              "      <td>10000014</td>\n",
              "      <td>28020</td>\n",
              "      <td>Cash</td>\n",
              "    </tr>\n",
              "    <tr>\n",
              "      <th>4</th>\n",
              "      <td>10000015</td>\n",
              "      <td>27182</td>\n",
              "      <td>Card</td>\n",
              "    </tr>\n",
              "  </tbody>\n",
              "</table>\n",
              "</div>"
            ],
            "text/plain": [
              "   Transaction ID  Customer_ID Payment_Mode\n",
              "0        10000011        29290         Card\n",
              "1        10000012        27703         Card\n",
              "2        10000013        28712         Cash\n",
              "3        10000014        28020         Cash\n",
              "4        10000015        27182         Card"
            ]
          },
          "metadata": {},
          "execution_count": 13
        }
      ],
      "source": [
        "Transaction_ID.head()"
      ]
    },
    {
      "cell_type": "code",
      "execution_count": 14,
      "metadata": {
        "colab": {
          "base_uri": "https://localhost:8080/"
        },
        "id": "1pPEFEGKnE8l",
        "outputId": "39c88b9f-c86c-4bbc-952f-d071c799e72c"
      },
      "outputs": [
        {
          "output_type": "stream",
          "name": "stdout",
          "text": [
            "<class 'pandas.core.frame.DataFrame'>\n",
            "RangeIndex: 359392 entries, 0 to 359391\n",
            "Data columns (total 7 columns):\n",
            " #   Column          Non-Null Count   Dtype  \n",
            "---  ------          --------------   -----  \n",
            " 0   Transaction ID  359392 non-null  int64  \n",
            " 1   Date of Travel  359392 non-null  int64  \n",
            " 2   Company         359392 non-null  object \n",
            " 3   City            359392 non-null  object \n",
            " 4   KM Travelled    359392 non-null  float64\n",
            " 5   Price Charged   359392 non-null  float64\n",
            " 6   Cost of Trip    359392 non-null  float64\n",
            "dtypes: float64(3), int64(2), object(2)\n",
            "memory usage: 19.2+ MB\n",
            "None\n",
            "<class 'pandas.core.frame.DataFrame'>\n",
            "RangeIndex: 20 entries, 0 to 19\n",
            "Data columns (total 3 columns):\n",
            " #   Column      Non-Null Count  Dtype \n",
            "---  ------      --------------  ----- \n",
            " 0   City        20 non-null     object\n",
            " 1   Population  20 non-null     object\n",
            " 2   Users       20 non-null     object\n",
            "dtypes: object(3)\n",
            "memory usage: 608.0+ bytes\n",
            "None\n",
            "<class 'pandas.core.frame.DataFrame'>\n",
            "RangeIndex: 49171 entries, 0 to 49170\n",
            "Data columns (total 4 columns):\n",
            " #   Column       Non-Null Count  Dtype \n",
            "---  ------       --------------  ----- \n",
            " 0   Customer_ID  49171 non-null  int64 \n",
            " 1   Gender       49171 non-null  object\n",
            " 2   Age          49171 non-null  int64 \n",
            " 3   Income       49171 non-null  int64 \n",
            "dtypes: int64(3), object(1)\n",
            "memory usage: 1.5+ MB\n",
            "None\n",
            "<class 'pandas.core.frame.DataFrame'>\n",
            "RangeIndex: 440098 entries, 0 to 440097\n",
            "Data columns (total 3 columns):\n",
            " #   Column          Non-Null Count   Dtype \n",
            "---  ------          --------------   ----- \n",
            " 0   Transaction ID  440098 non-null  int64 \n",
            " 1   Customer_ID     440098 non-null  int64 \n",
            " 2   Payment_Mode    440098 non-null  object\n",
            "dtypes: int64(2), object(1)\n",
            "memory usage: 10.1+ MB\n",
            "None\n"
          ]
        }
      ],
      "source": [
        "#Data Info\n",
        "print(Data_Cab.info())\n",
        "print(City.info())\n",
        "print(Customer_ID.info())\n",
        "print(Transaction_ID.info())"
      ]
    },
    {
      "cell_type": "code",
      "execution_count": 16,
      "metadata": {
        "colab": {
          "base_uri": "https://localhost:8080/"
        },
        "id": "uj9ETewyniwM",
        "outputId": "6e89a173-bd80-4aeb-8f27-4e1efead9759"
      },
      "outputs": [
        {
          "output_type": "stream",
          "name": "stdout",
          "text": [
            "/content/Cab_Data.csv (359392, 7)\n",
            "/content/City.csv (20, 3)\n",
            "/content/Customer_ID.csv (49171, 4)\n",
            "/content/Transaction_ID.csv (440098, 3)\n"
          ]
        }
      ],
      "source": [
        "#Date set shape\n",
        "print(\"/content/Cab_Data.csv\", Data_Cab.shape)\n",
        "print(\"/content/City.csv\", City.shape)\n",
        "print(\"/content/Customer_ID.csv\", Customer_ID.shape)\n",
        "print(\"/content/Transaction_ID.csv\", Transaction_ID.shape)"
      ]
    },
    {
      "cell_type": "markdown",
      "metadata": {
        "id": "wL6NEDCtQcPx"
      },
      "source": [
        "## **DATA TIDYING/CLEANING/VISUALIZATION**\n",
        "\n"
      ]
    },
    {
      "cell_type": "code",
      "execution_count": 5,
      "metadata": {
        "id": "XfRn2ERa_ky9"
      },
      "outputs": [],
      "source": [
        "#Data tidying\n",
        "for col in Data_Cab.columns:\n",
        "    if ' ' in col:\n",
        "        Data_Cab = Data_Cab.rename(columns={col:col.replace(' ','_')})"
      ]
    },
    {
      "cell_type": "code",
      "execution_count": 6,
      "metadata": {
        "colab": {
          "base_uri": "https://localhost:8080/"
        },
        "id": "yolEZgD8pMQo",
        "outputId": "f28107be-22bb-4918-9d81-b2ac0c3c872d"
      },
      "outputs": [
        {
          "output_type": "execute_result",
          "data": {
            "text/plain": [
              "Index(['Transaction_ID', 'Date_of_Travel', 'Company', 'City', 'KM_Travelled',\n",
              "       'Price_Charged', 'Cost_of_Trip'],\n",
              "      dtype='object')"
            ]
          },
          "metadata": {},
          "execution_count": 6
        }
      ],
      "source": [
        "Data_Cab.columns\n"
      ]
    },
    {
      "cell_type": "code",
      "execution_count": 9,
      "metadata": {
        "id": "_2EjMj6ihnz5"
      },
      "outputs": [],
      "source": [
        "for col in City.columns:\n",
        "    if ' ' in col:\n",
        "        Data_Cab = City.rename(columns={col:col.replace(' ','_')})"
      ]
    },
    {
      "cell_type": "code",
      "execution_count": 10,
      "metadata": {
        "colab": {
          "base_uri": "https://localhost:8080/"
        },
        "id": "OTz7KdOm1_OY",
        "outputId": "4f4bdaad-7629-4ff6-f735-fa2049f5210e"
      },
      "outputs": [
        {
          "output_type": "execute_result",
          "data": {
            "text/plain": [
              "Index(['City', 'Population', 'Users'], dtype='object')"
            ]
          },
          "metadata": {},
          "execution_count": 10
        }
      ],
      "source": [
        "City.columns"
      ]
    },
    {
      "cell_type": "code",
      "execution_count": 11,
      "metadata": {
        "id": "zho_OU-0Js9S"
      },
      "outputs": [],
      "source": [
        "for col in Customer_ID.columns:\n",
        "    if ' ' in col:\n",
        "        Customer_ID = Customer_ID.rename(columns={col:col.replace(' ','_')})"
      ]
    },
    {
      "cell_type": "code",
      "execution_count": 12,
      "metadata": {
        "colab": {
          "base_uri": "https://localhost:8080/"
        },
        "id": "oLo0oX8B2FKb",
        "outputId": "4c7abe0c-3449-41ca-ea1c-9321a9892aef"
      },
      "outputs": [
        {
          "output_type": "execute_result",
          "data": {
            "text/plain": [
              "Index(['Customer_ID', 'Gender', 'Age', 'Income_'], dtype='object')"
            ]
          },
          "metadata": {},
          "execution_count": 12
        }
      ],
      "source": [
        "Customer_ID.columns\n"
      ]
    },
    {
      "cell_type": "code",
      "execution_count": 13,
      "metadata": {
        "id": "fvKzzQP3jn9s"
      },
      "outputs": [],
      "source": [
        "for col in Transaction_ID.columns:\n",
        "    if ' ' in col:\n",
        "        Transaction_ID = Transaction_ID.rename(columns={col:col.replace(' ','_')})"
      ]
    },
    {
      "cell_type": "code",
      "execution_count": 14,
      "metadata": {
        "colab": {
          "base_uri": "https://localhost:8080/"
        },
        "id": "HNP8eUbu2QLR",
        "outputId": "2ec8b1c0-772b-4645-df73-9ac9a3bb22cf"
      },
      "outputs": [
        {
          "output_type": "execute_result",
          "data": {
            "text/plain": [
              "Index(['Transaction_ID', 'Customer_ID', 'Payment_Mode'], dtype='object')"
            ]
          },
          "metadata": {},
          "execution_count": 14
        }
      ],
      "source": [
        "Transaction_ID.columns"
      ]
    },
    {
      "cell_type": "code",
      "execution_count": 7,
      "metadata": {
        "id": "c6qwI7Ox9HnC"
      },
      "outputs": [],
      "source": [
        "#Changing the date formart from number of days to day, month and year.\n",
        "from datetime import datetime, timedelta\n",
        "def to_date_format(n):\n",
        "    date_str =(datetime(1899,12,30) + timedelta(n-1)).strftime(\"%d-%m-%Y\")\n",
        "    date_date =  datetime.strptime(date_str, \"%d-%m-%Y\")\n",
        "    return date_date"
      ]
    },
    {
      "cell_type": "code",
      "execution_count": 8,
      "metadata": {
        "id": "dLwNHBBX-JzW"
      },
      "outputs": [],
      "source": [
        "Data_Cab['Date_of_Travel'] = Data_Cab['Date_of_Travel'].apply(lambda x:to_date_format(x))"
      ]
    },
    {
      "cell_type": "code",
      "execution_count": 15,
      "metadata": {
        "colab": {
          "base_uri": "https://localhost:8080/",
          "height": 206
        },
        "id": "PCPC_1nRAhzy",
        "outputId": "c594dee7-919d-402e-9279-4c25c6da17f9"
      },
      "outputs": [
        {
          "output_type": "execute_result",
          "data": {
            "text/html": [
              "<div>\n",
              "<style scoped>\n",
              "    .dataframe tbody tr th:only-of-type {\n",
              "        vertical-align: middle;\n",
              "    }\n",
              "\n",
              "    .dataframe tbody tr th {\n",
              "        vertical-align: top;\n",
              "    }\n",
              "\n",
              "    .dataframe thead th {\n",
              "        text-align: right;\n",
              "    }\n",
              "</style>\n",
              "<table border=\"1\" class=\"dataframe\">\n",
              "  <thead>\n",
              "    <tr style=\"text-align: right;\">\n",
              "      <th></th>\n",
              "      <th>Transaction_ID</th>\n",
              "      <th>Date_of_Travel</th>\n",
              "      <th>Company</th>\n",
              "      <th>City</th>\n",
              "      <th>KM_Travelled</th>\n",
              "      <th>Price_Charged</th>\n",
              "      <th>Cost_of_Trip</th>\n",
              "    </tr>\n",
              "  </thead>\n",
              "  <tbody>\n",
              "    <tr>\n",
              "      <th>0</th>\n",
              "      <td>10000011</td>\n",
              "      <td>2016-01-07</td>\n",
              "      <td>Pink Cab</td>\n",
              "      <td>ATLANTA GA</td>\n",
              "      <td>30.45</td>\n",
              "      <td>370.95</td>\n",
              "      <td>313.635</td>\n",
              "    </tr>\n",
              "    <tr>\n",
              "      <th>1</th>\n",
              "      <td>10000012</td>\n",
              "      <td>2016-01-05</td>\n",
              "      <td>Pink Cab</td>\n",
              "      <td>ATLANTA GA</td>\n",
              "      <td>28.62</td>\n",
              "      <td>358.52</td>\n",
              "      <td>334.854</td>\n",
              "    </tr>\n",
              "    <tr>\n",
              "      <th>2</th>\n",
              "      <td>10000013</td>\n",
              "      <td>2016-01-01</td>\n",
              "      <td>Pink Cab</td>\n",
              "      <td>ATLANTA GA</td>\n",
              "      <td>9.04</td>\n",
              "      <td>125.20</td>\n",
              "      <td>97.632</td>\n",
              "    </tr>\n",
              "    <tr>\n",
              "      <th>3</th>\n",
              "      <td>10000014</td>\n",
              "      <td>2016-01-06</td>\n",
              "      <td>Pink Cab</td>\n",
              "      <td>ATLANTA GA</td>\n",
              "      <td>33.17</td>\n",
              "      <td>377.40</td>\n",
              "      <td>351.602</td>\n",
              "    </tr>\n",
              "    <tr>\n",
              "      <th>4</th>\n",
              "      <td>10000015</td>\n",
              "      <td>2016-01-02</td>\n",
              "      <td>Pink Cab</td>\n",
              "      <td>ATLANTA GA</td>\n",
              "      <td>8.73</td>\n",
              "      <td>114.62</td>\n",
              "      <td>97.776</td>\n",
              "    </tr>\n",
              "  </tbody>\n",
              "</table>\n",
              "</div>"
            ],
            "text/plain": [
              "   Transaction_ID Date_of_Travel  ... Price_Charged Cost_of_Trip\n",
              "0        10000011     2016-01-07  ...        370.95      313.635\n",
              "1        10000012     2016-01-05  ...        358.52      334.854\n",
              "2        10000013     2016-01-01  ...        125.20       97.632\n",
              "3        10000014     2016-01-06  ...        377.40      351.602\n",
              "4        10000015     2016-01-02  ...        114.62       97.776\n",
              "\n",
              "[5 rows x 7 columns]"
            ]
          },
          "metadata": {},
          "execution_count": 15
        }
      ],
      "source": [
        "#Displaying the formarted date\n",
        "Data_Cab.head()"
      ]
    },
    {
      "cell_type": "code",
      "execution_count": 16,
      "metadata": {
        "id": "RVXFG1uUCnva"
      },
      "outputs": [],
      "source": [
        "#Appending the day, month and year to just year and dropping the column name \"date of travel\"\n",
        "months=[]\n",
        "years =[]\n",
        "for i in range(len(Data_Cab['Date_of_Travel'])):\n",
        "    months.append(Data_Cab['Date_of_Travel'][i].month)\n",
        "    years.append(Data_Cab['Date_of_Travel'][i].year)\n",
        "Data_Cab['Month'] = months\n",
        "Data_Cab['Year'] = years\n",
        "\n",
        "Data_Cab.drop('Date_of_Travel', axis=1, inplace=True)"
      ]
    },
    {
      "cell_type": "code",
      "execution_count": 17,
      "metadata": {
        "colab": {
          "base_uri": "https://localhost:8080/",
          "height": 206
        },
        "id": "PhU9IsSwG_9v",
        "outputId": "8d68fee8-a28c-4ae5-b115-2d1c5143f07f"
      },
      "outputs": [
        {
          "output_type": "execute_result",
          "data": {
            "text/html": [
              "<div>\n",
              "<style scoped>\n",
              "    .dataframe tbody tr th:only-of-type {\n",
              "        vertical-align: middle;\n",
              "    }\n",
              "\n",
              "    .dataframe tbody tr th {\n",
              "        vertical-align: top;\n",
              "    }\n",
              "\n",
              "    .dataframe thead th {\n",
              "        text-align: right;\n",
              "    }\n",
              "</style>\n",
              "<table border=\"1\" class=\"dataframe\">\n",
              "  <thead>\n",
              "    <tr style=\"text-align: right;\">\n",
              "      <th></th>\n",
              "      <th>Transaction_ID</th>\n",
              "      <th>Company</th>\n",
              "      <th>City</th>\n",
              "      <th>KM_Travelled</th>\n",
              "      <th>Price_Charged</th>\n",
              "      <th>Cost_of_Trip</th>\n",
              "      <th>Month</th>\n",
              "      <th>Year</th>\n",
              "    </tr>\n",
              "  </thead>\n",
              "  <tbody>\n",
              "    <tr>\n",
              "      <th>0</th>\n",
              "      <td>10000011</td>\n",
              "      <td>Pink Cab</td>\n",
              "      <td>ATLANTA GA</td>\n",
              "      <td>30.45</td>\n",
              "      <td>370.95</td>\n",
              "      <td>313.635</td>\n",
              "      <td>1</td>\n",
              "      <td>2016</td>\n",
              "    </tr>\n",
              "    <tr>\n",
              "      <th>1</th>\n",
              "      <td>10000012</td>\n",
              "      <td>Pink Cab</td>\n",
              "      <td>ATLANTA GA</td>\n",
              "      <td>28.62</td>\n",
              "      <td>358.52</td>\n",
              "      <td>334.854</td>\n",
              "      <td>1</td>\n",
              "      <td>2016</td>\n",
              "    </tr>\n",
              "    <tr>\n",
              "      <th>2</th>\n",
              "      <td>10000013</td>\n",
              "      <td>Pink Cab</td>\n",
              "      <td>ATLANTA GA</td>\n",
              "      <td>9.04</td>\n",
              "      <td>125.20</td>\n",
              "      <td>97.632</td>\n",
              "      <td>1</td>\n",
              "      <td>2016</td>\n",
              "    </tr>\n",
              "    <tr>\n",
              "      <th>3</th>\n",
              "      <td>10000014</td>\n",
              "      <td>Pink Cab</td>\n",
              "      <td>ATLANTA GA</td>\n",
              "      <td>33.17</td>\n",
              "      <td>377.40</td>\n",
              "      <td>351.602</td>\n",
              "      <td>1</td>\n",
              "      <td>2016</td>\n",
              "    </tr>\n",
              "    <tr>\n",
              "      <th>4</th>\n",
              "      <td>10000015</td>\n",
              "      <td>Pink Cab</td>\n",
              "      <td>ATLANTA GA</td>\n",
              "      <td>8.73</td>\n",
              "      <td>114.62</td>\n",
              "      <td>97.776</td>\n",
              "      <td>1</td>\n",
              "      <td>2016</td>\n",
              "    </tr>\n",
              "  </tbody>\n",
              "</table>\n",
              "</div>"
            ],
            "text/plain": [
              "   Transaction_ID   Company        City  ...  Cost_of_Trip  Month  Year\n",
              "0        10000011  Pink Cab  ATLANTA GA  ...       313.635      1  2016\n",
              "1        10000012  Pink Cab  ATLANTA GA  ...       334.854      1  2016\n",
              "2        10000013  Pink Cab  ATLANTA GA  ...        97.632      1  2016\n",
              "3        10000014  Pink Cab  ATLANTA GA  ...       351.602      1  2016\n",
              "4        10000015  Pink Cab  ATLANTA GA  ...        97.776      1  2016\n",
              "\n",
              "[5 rows x 8 columns]"
            ]
          },
          "metadata": {},
          "execution_count": 17
        }
      ],
      "source": [
        "Data_Cab.head()"
      ]
    },
    {
      "cell_type": "code",
      "execution_count": 24,
      "metadata": {
        "colab": {
          "base_uri": "https://localhost:8080/",
          "height": 206
        },
        "id": "t3Ft44hv6q37",
        "outputId": "7daaf47a-115c-4a2a-f712-e851dce02f88"
      },
      "outputs": [
        {
          "output_type": "execute_result",
          "data": {
            "text/html": [
              "<div>\n",
              "<style scoped>\n",
              "    .dataframe tbody tr th:only-of-type {\n",
              "        vertical-align: middle;\n",
              "    }\n",
              "\n",
              "    .dataframe tbody tr th {\n",
              "        vertical-align: top;\n",
              "    }\n",
              "\n",
              "    .dataframe thead th {\n",
              "        text-align: right;\n",
              "    }\n",
              "</style>\n",
              "<table border=\"1\" class=\"dataframe\">\n",
              "  <thead>\n",
              "    <tr style=\"text-align: right;\">\n",
              "      <th></th>\n",
              "      <th>Transaction_ID</th>\n",
              "      <th>Company</th>\n",
              "      <th>City</th>\n",
              "      <th>KM_Travelled</th>\n",
              "      <th>Price_Charged</th>\n",
              "      <th>Cost_of_Trip</th>\n",
              "      <th>Month</th>\n",
              "      <th>Year</th>\n",
              "    </tr>\n",
              "  </thead>\n",
              "  <tbody>\n",
              "    <tr>\n",
              "      <th>233</th>\n",
              "      <td>10000384</td>\n",
              "      <td>Yellow Cab</td>\n",
              "      <td>ATLANTA GA</td>\n",
              "      <td>33.93</td>\n",
              "      <td>1341.17</td>\n",
              "      <td>464.1624</td>\n",
              "      <td>1</td>\n",
              "      <td>2016</td>\n",
              "    </tr>\n",
              "    <tr>\n",
              "      <th>234</th>\n",
              "      <td>10000385</td>\n",
              "      <td>Yellow Cab</td>\n",
              "      <td>ATLANTA GA</td>\n",
              "      <td>42.18</td>\n",
              "      <td>1412.06</td>\n",
              "      <td>516.2832</td>\n",
              "      <td>1</td>\n",
              "      <td>2016</td>\n",
              "    </tr>\n",
              "    <tr>\n",
              "      <th>235</th>\n",
              "      <td>10000386</td>\n",
              "      <td>Yellow Cab</td>\n",
              "      <td>ATLANTA GA</td>\n",
              "      <td>10.60</td>\n",
              "      <td>364.62</td>\n",
              "      <td>132.2880</td>\n",
              "      <td>1</td>\n",
              "      <td>2016</td>\n",
              "    </tr>\n",
              "    <tr>\n",
              "      <th>236</th>\n",
              "      <td>10000387</td>\n",
              "      <td>Yellow Cab</td>\n",
              "      <td>ATLANTA GA</td>\n",
              "      <td>26.75</td>\n",
              "      <td>838.00</td>\n",
              "      <td>333.8400</td>\n",
              "      <td>1</td>\n",
              "      <td>2016</td>\n",
              "    </tr>\n",
              "    <tr>\n",
              "      <th>237</th>\n",
              "      <td>10000388</td>\n",
              "      <td>Yellow Cab</td>\n",
              "      <td>ATLANTA GA</td>\n",
              "      <td>46.02</td>\n",
              "      <td>1540.61</td>\n",
              "      <td>596.4192</td>\n",
              "      <td>1</td>\n",
              "      <td>2016</td>\n",
              "    </tr>\n",
              "  </tbody>\n",
              "</table>\n",
              "</div>"
            ],
            "text/plain": [
              "     Transaction_ID     Company        City  ...  Cost_of_Trip  Month  Year\n",
              "233        10000384  Yellow Cab  ATLANTA GA  ...      464.1624      1  2016\n",
              "234        10000385  Yellow Cab  ATLANTA GA  ...      516.2832      1  2016\n",
              "235        10000386  Yellow Cab  ATLANTA GA  ...      132.2880      1  2016\n",
              "236        10000387  Yellow Cab  ATLANTA GA  ...      333.8400      1  2016\n",
              "237        10000388  Yellow Cab  ATLANTA GA  ...      596.4192      1  2016\n",
              "\n",
              "[5 rows x 8 columns]"
            ]
          },
          "metadata": {},
          "execution_count": 24
        }
      ],
      "source": [
        "# Split the dataset into Pink Cab and Yellow Cab before carrying out EDA\n",
        "Yellow_Cab = Data_Cab[Data_Cab['Company'] == 'Yellow Cab']\n",
        "Yellow_Cab.head()"
      ]
    },
    {
      "cell_type": "code",
      "source": [
        "#Ploting graph to determine the profit margin of the Yellow Cab\n",
        "plot1 = Data_Cab[Data_Cab.Company=='Yellow Cab'].groupby('Year').Transaction_ID.count()\n",
        "plot3 = Data_Cab[Data_Cab.Company=='Yellow Cab'].groupby('Year').Cost_of_Trip.mean()\n",
        "plot4 = Data_Cab[Data_Cab.Company=='Yellow Cab'].groupby('Year').Price_Charged.mean()\n",
        "plt.figure(figsize=(14,6))\n",
        "ax = plt.subplot(111)\n",
        "ax.bar(plot1.index-0.2, plot4.values, width=0.4, color='brown', align='center',label='Cost of the Trip')\n",
        "ax.bar(plot1.index+0.2, plot3.values, width=0.4, color='yellow', align='center',label='Price Charged')\n",
        "plt.ylabel('Profit Margin',fontsize=14)\n",
        "plt.xlabel('Year',fontsize=14)\n",
        "plt.title('Yellow Cab', fontsize=20)\n",
        "plt.legend()\n",
        "plt.show()"
      ],
      "metadata": {
        "colab": {
          "base_uri": "https://localhost:8080/",
          "height": 416
        },
        "id": "8VSh7qOCvt4U",
        "outputId": "330227b5-e8a8-4e14-9c0f-6bd223fe60ee"
      },
      "execution_count": 101,
      "outputs": [
        {
          "output_type": "display_data",
          "data": {
            "image/png": "[encoded data removed]",
            "text/plain": [
              "<Figure size 1008x432 with 1 Axes>"
            ]
          },
          "metadata": {}
        }
      ]
    },
    {
      "cell_type": "code",
      "execution_count": null,
      "metadata": {
        "id": "JFCRjK-wtT9B"
      },
      "outputs": [],
      "source": [
        "Pink_Cab = Data_Cab[Data_Cab['Company']=='Pink Cab']"
      ]
    },
    {
      "cell_type": "code",
      "execution_count": null,
      "metadata": {
        "colab": {
          "base_uri": "https://localhost:8080/",
          "height": 206
        },
        "id": "SZsTl2ucuovL",
        "outputId": "5db14f7b-3d51-4f37-a215-a3814f1d1c8d"
      },
      "outputs": [
        {
          "data": {
            "text/html": [
              "<div>\n",
              "<style scoped>\n",
              "    .dataframe tbody tr th:only-of-type {\n",
              "        vertical-align: middle;\n",
              "    }\n",
              "\n",
              "    .dataframe tbody tr th {\n",
              "        vertical-align: top;\n",
              "    }\n",
              "\n",
              "    .dataframe thead th {\n",
              "        text-align: right;\n",
              "    }\n",
              "</style>\n",
              "<table border=\"1\" class=\"dataframe\">\n",
              "  <thead>\n",
              "    <tr style=\"text-align: right;\">\n",
              "      <th></th>\n",
              "      <th>Transaction_ID</th>\n",
              "      <th>Company</th>\n",
              "      <th>City</th>\n",
              "      <th>KM_Travelled</th>\n",
              "      <th>Price_Charged</th>\n",
              "      <th>Cost_of_Trip</th>\n",
              "      <th>Month</th>\n",
              "      <th>Year</th>\n",
              "    </tr>\n",
              "  </thead>\n",
              "  <tbody>\n",
              "    <tr>\n",
              "      <th>0</th>\n",
              "      <td>10000011</td>\n",
              "      <td>Pink Cab</td>\n",
              "      <td>ATLANTA GA</td>\n",
              "      <td>30.45</td>\n",
              "      <td>370.95</td>\n",
              "      <td>313.635</td>\n",
              "      <td>1</td>\n",
              "      <td>2016</td>\n",
              "    </tr>\n",
              "    <tr>\n",
              "      <th>1</th>\n",
              "      <td>10000012</td>\n",
              "      <td>Pink Cab</td>\n",
              "      <td>ATLANTA GA</td>\n",
              "      <td>28.62</td>\n",
              "      <td>358.52</td>\n",
              "      <td>334.854</td>\n",
              "      <td>1</td>\n",
              "      <td>2016</td>\n",
              "    </tr>\n",
              "    <tr>\n",
              "      <th>2</th>\n",
              "      <td>10000013</td>\n",
              "      <td>Pink Cab</td>\n",
              "      <td>ATLANTA GA</td>\n",
              "      <td>9.04</td>\n",
              "      <td>125.20</td>\n",
              "      <td>97.632</td>\n",
              "      <td>1</td>\n",
              "      <td>2016</td>\n",
              "    </tr>\n",
              "    <tr>\n",
              "      <th>3</th>\n",
              "      <td>10000014</td>\n",
              "      <td>Pink Cab</td>\n",
              "      <td>ATLANTA GA</td>\n",
              "      <td>33.17</td>\n",
              "      <td>377.40</td>\n",
              "      <td>351.602</td>\n",
              "      <td>1</td>\n",
              "      <td>2016</td>\n",
              "    </tr>\n",
              "    <tr>\n",
              "      <th>4</th>\n",
              "      <td>10000015</td>\n",
              "      <td>Pink Cab</td>\n",
              "      <td>ATLANTA GA</td>\n",
              "      <td>8.73</td>\n",
              "      <td>114.62</td>\n",
              "      <td>97.776</td>\n",
              "      <td>1</td>\n",
              "      <td>2016</td>\n",
              "    </tr>\n",
              "  </tbody>\n",
              "</table>\n",
              "</div>"
            ],
            "text/plain": [
              "   Transaction_ID   Company        City  ...  Cost_of_Trip  Month  Year\n",
              "0        10000011  Pink Cab  ATLANTA GA  ...       313.635      1  2016\n",
              "1        10000012  Pink Cab  ATLANTA GA  ...       334.854      1  2016\n",
              "2        10000013  Pink Cab  ATLANTA GA  ...        97.632      1  2016\n",
              "3        10000014  Pink Cab  ATLANTA GA  ...       351.602      1  2016\n",
              "4        10000015  Pink Cab  ATLANTA GA  ...        97.776      1  2016\n",
              "\n",
              "[5 rows x 8 columns]"
            ]
          },
          "execution_count": 62,
          "metadata": {},
          "output_type": "execute_result"
        }
      ],
      "source": [
        "Data_Cab.head(5)"
      ]
    },
    {
      "cell_type": "code",
      "source": [
        "#Ploting graph to determine the profit margin of the Pink Cab\n",
        "plot1 = Data_Cab[Data_Cab.Company=='Pink Cab'].groupby('Year').Transaction_ID.count()\n",
        "plot3 = Data_Cab[Data_Cab.Company=='Pink Cab'].groupby('Year').Cost_of_Trip.mean()\n",
        "plot4 = Data_Cab[Data_Cab.Company=='Pink Cab'].groupby('Year').Price_Charged.mean()\n",
        "plt.figure(figsize=(14,6))\n",
        "ax = plt.subplot(111)\n",
        "ax.bar(plot1.index-0.2, plot4.values, width=0.4, color='brown', align='center',label='Cost of the Trip')\n",
        "ax.bar(plot1.index+0.2, plot3.values, width=0.4, color='yellow', align='center',label='Price Charged')\n",
        "plt.ylabel('Profit Margin',fontsize=14)\n",
        "plt.xlabel('Year',fontsize=14)\n",
        "plt.title('Pink Cab', fontsize=20)\n",
        "plt.legend()\n",
        "plt.show()"
      ],
      "metadata": {
        "colab": {
          "base_uri": "https://localhost:8080/",
          "height": 416
        },
        "id": "8mRc5C_MtZE1",
        "outputId": "5f6a8c29-1a4a-450e-c2d0-d73ec280cf5f"
      },
      "execution_count": 100,
      "outputs": [
        {
          "output_type": "display_data",
          "data": {
            "image/png": "[encoded data removed]",
            "text/plain": [
              "<Figure size 1008x432 with 1 Axes>"
            ]
          },
          "metadata": {}
        }
      ]
    },
    {
      "cell_type": "markdown",
      "source": [
        "# **From the above graph we can see that the Yellow Cab had a higher profit margin to Pink Cab**\n",
        "\n"
      ],
      "metadata": {
        "id": "fqLwgTJ8wNaY"
      }
    },
    {
      "cell_type": "code",
      "execution_count": 21,
      "metadata": {
        "colab": {
          "base_uri": "https://localhost:8080/",
          "height": 237
        },
        "id": "WHqjfU0T-q_O",
        "outputId": "142cca61-a442-4b34-b971-e7915ac02d89"
      },
      "outputs": [
        {
          "output_type": "execute_result",
          "data": {
            "text/html": [
              "<div>\n",
              "<style scoped>\n",
              "    .dataframe tbody tr th:only-of-type {\n",
              "        vertical-align: middle;\n",
              "    }\n",
              "\n",
              "    .dataframe tbody tr th {\n",
              "        vertical-align: top;\n",
              "    }\n",
              "\n",
              "    .dataframe thead th {\n",
              "        text-align: right;\n",
              "    }\n",
              "</style>\n",
              "<table border=\"1\" class=\"dataframe\">\n",
              "  <thead>\n",
              "    <tr style=\"text-align: right;\">\n",
              "      <th></th>\n",
              "      <th>Company</th>\n",
              "      <th>City</th>\n",
              "      <th>KM_Travelled</th>\n",
              "      <th>Price_Charged</th>\n",
              "      <th>Cost_of_Trip</th>\n",
              "      <th>Month</th>\n",
              "      <th>Year</th>\n",
              "      <th>Customer_ID</th>\n",
              "      <th>Payment_Mode</th>\n",
              "    </tr>\n",
              "    <tr>\n",
              "      <th>Transaction_ID</th>\n",
              "      <th></th>\n",
              "      <th></th>\n",
              "      <th></th>\n",
              "      <th></th>\n",
              "      <th></th>\n",
              "      <th></th>\n",
              "      <th></th>\n",
              "      <th></th>\n",
              "      <th></th>\n",
              "    </tr>\n",
              "  </thead>\n",
              "  <tbody>\n",
              "    <tr>\n",
              "      <th>10000011</th>\n",
              "      <td>Pink Cab</td>\n",
              "      <td>ATLANTA GA</td>\n",
              "      <td>30.45</td>\n",
              "      <td>370.95</td>\n",
              "      <td>313.635</td>\n",
              "      <td>1</td>\n",
              "      <td>2016</td>\n",
              "      <td>29290</td>\n",
              "      <td>Card</td>\n",
              "    </tr>\n",
              "    <tr>\n",
              "      <th>10000012</th>\n",
              "      <td>Pink Cab</td>\n",
              "      <td>ATLANTA GA</td>\n",
              "      <td>28.62</td>\n",
              "      <td>358.52</td>\n",
              "      <td>334.854</td>\n",
              "      <td>1</td>\n",
              "      <td>2016</td>\n",
              "      <td>27703</td>\n",
              "      <td>Card</td>\n",
              "    </tr>\n",
              "    <tr>\n",
              "      <th>10000013</th>\n",
              "      <td>Pink Cab</td>\n",
              "      <td>ATLANTA GA</td>\n",
              "      <td>9.04</td>\n",
              "      <td>125.20</td>\n",
              "      <td>97.632</td>\n",
              "      <td>1</td>\n",
              "      <td>2016</td>\n",
              "      <td>28712</td>\n",
              "      <td>Cash</td>\n",
              "    </tr>\n",
              "    <tr>\n",
              "      <th>10000014</th>\n",
              "      <td>Pink Cab</td>\n",
              "      <td>ATLANTA GA</td>\n",
              "      <td>33.17</td>\n",
              "      <td>377.40</td>\n",
              "      <td>351.602</td>\n",
              "      <td>1</td>\n",
              "      <td>2016</td>\n",
              "      <td>28020</td>\n",
              "      <td>Cash</td>\n",
              "    </tr>\n",
              "    <tr>\n",
              "      <th>10000015</th>\n",
              "      <td>Pink Cab</td>\n",
              "      <td>ATLANTA GA</td>\n",
              "      <td>8.73</td>\n",
              "      <td>114.62</td>\n",
              "      <td>97.776</td>\n",
              "      <td>1</td>\n",
              "      <td>2016</td>\n",
              "      <td>27182</td>\n",
              "      <td>Card</td>\n",
              "    </tr>\n",
              "  </tbody>\n",
              "</table>\n",
              "</div>"
            ],
            "text/plain": [
              "                 Company        City  ...  Customer_ID  Payment_Mode\n",
              "Transaction_ID                        ...                           \n",
              "10000011        Pink Cab  ATLANTA GA  ...        29290          Card\n",
              "10000012        Pink Cab  ATLANTA GA  ...        27703          Card\n",
              "10000013        Pink Cab  ATLANTA GA  ...        28712          Cash\n",
              "10000014        Pink Cab  ATLANTA GA  ...        28020          Cash\n",
              "10000015        Pink Cab  ATLANTA GA  ...        27182          Card\n",
              "\n",
              "[5 rows x 9 columns]"
            ]
          },
          "metadata": {},
          "execution_count": 21
        }
      ],
      "source": [
        "#Joining Cab dataset with Transaction_ID dataset\n",
        "left = Data_Cab.set_index(['Transaction_ID'])\n",
        "right = Transaction_ID.set_index(['Transaction_ID'])\n",
        "Data_Master = left.join(right)\n",
        "Data_Master.head()"
      ]
    },
    {
      "cell_type": "code",
      "execution_count": 22,
      "metadata": {
        "colab": {
          "base_uri": "https://localhost:8080/",
          "height": 237
        },
        "id": "R7a0HPxpJBxK",
        "outputId": "4235eebb-c224-4f5a-b70b-1a8794fdec98"
      },
      "outputs": [
        {
          "output_type": "execute_result",
          "data": {
            "text/html": [
              "<div>\n",
              "<style scoped>\n",
              "    .dataframe tbody tr th:only-of-type {\n",
              "        vertical-align: middle;\n",
              "    }\n",
              "\n",
              "    .dataframe tbody tr th {\n",
              "        vertical-align: top;\n",
              "    }\n",
              "\n",
              "    .dataframe thead th {\n",
              "        text-align: right;\n",
              "    }\n",
              "</style>\n",
              "<table border=\"1\" class=\"dataframe\">\n",
              "  <thead>\n",
              "    <tr style=\"text-align: right;\">\n",
              "      <th></th>\n",
              "      <th></th>\n",
              "      <th>Company</th>\n",
              "      <th>City</th>\n",
              "      <th>KM_Travelled</th>\n",
              "      <th>Price_Charged</th>\n",
              "      <th>Cost_of_Trip</th>\n",
              "      <th>Month</th>\n",
              "      <th>Year</th>\n",
              "      <th>Payment_Mode</th>\n",
              "      <th>Gender</th>\n",
              "      <th>Age</th>\n",
              "      <th>Income_</th>\n",
              "    </tr>\n",
              "    <tr>\n",
              "      <th>Transaction_ID</th>\n",
              "      <th>Customer_ID</th>\n",
              "      <th></th>\n",
              "      <th></th>\n",
              "      <th></th>\n",
              "      <th></th>\n",
              "      <th></th>\n",
              "      <th></th>\n",
              "      <th></th>\n",
              "      <th></th>\n",
              "      <th></th>\n",
              "      <th></th>\n",
              "      <th></th>\n",
              "    </tr>\n",
              "  </thead>\n",
              "  <tbody>\n",
              "    <tr>\n",
              "      <th>10000011</th>\n",
              "      <th>29290</th>\n",
              "      <td>Pink Cab</td>\n",
              "      <td>ATLANTA GA</td>\n",
              "      <td>30.45</td>\n",
              "      <td>370.95</td>\n",
              "      <td>313.635</td>\n",
              "      <td>1</td>\n",
              "      <td>2016</td>\n",
              "      <td>Card</td>\n",
              "      <td>Male</td>\n",
              "      <td>28</td>\n",
              "      <td>10813</td>\n",
              "    </tr>\n",
              "    <tr>\n",
              "      <th>10000012</th>\n",
              "      <th>27703</th>\n",
              "      <td>Pink Cab</td>\n",
              "      <td>ATLANTA GA</td>\n",
              "      <td>28.62</td>\n",
              "      <td>358.52</td>\n",
              "      <td>334.854</td>\n",
              "      <td>1</td>\n",
              "      <td>2016</td>\n",
              "      <td>Card</td>\n",
              "      <td>Male</td>\n",
              "      <td>27</td>\n",
              "      <td>9237</td>\n",
              "    </tr>\n",
              "    <tr>\n",
              "      <th>10000013</th>\n",
              "      <th>28712</th>\n",
              "      <td>Pink Cab</td>\n",
              "      <td>ATLANTA GA</td>\n",
              "      <td>9.04</td>\n",
              "      <td>125.20</td>\n",
              "      <td>97.632</td>\n",
              "      <td>1</td>\n",
              "      <td>2016</td>\n",
              "      <td>Cash</td>\n",
              "      <td>Male</td>\n",
              "      <td>53</td>\n",
              "      <td>11242</td>\n",
              "    </tr>\n",
              "    <tr>\n",
              "      <th>10000014</th>\n",
              "      <th>28020</th>\n",
              "      <td>Pink Cab</td>\n",
              "      <td>ATLANTA GA</td>\n",
              "      <td>33.17</td>\n",
              "      <td>377.40</td>\n",
              "      <td>351.602</td>\n",
              "      <td>1</td>\n",
              "      <td>2016</td>\n",
              "      <td>Cash</td>\n",
              "      <td>Male</td>\n",
              "      <td>23</td>\n",
              "      <td>23327</td>\n",
              "    </tr>\n",
              "    <tr>\n",
              "      <th>10000015</th>\n",
              "      <th>27182</th>\n",
              "      <td>Pink Cab</td>\n",
              "      <td>ATLANTA GA</td>\n",
              "      <td>8.73</td>\n",
              "      <td>114.62</td>\n",
              "      <td>97.776</td>\n",
              "      <td>1</td>\n",
              "      <td>2016</td>\n",
              "      <td>Card</td>\n",
              "      <td>Male</td>\n",
              "      <td>33</td>\n",
              "      <td>8536</td>\n",
              "    </tr>\n",
              "  </tbody>\n",
              "</table>\n",
              "</div>"
            ],
            "text/plain": [
              "                             Company        City  ...  Age  Income_\n",
              "Transaction_ID Customer_ID                        ...              \n",
              "10000011       29290        Pink Cab  ATLANTA GA  ...   28    10813\n",
              "10000012       27703        Pink Cab  ATLANTA GA  ...   27     9237\n",
              "10000013       28712        Pink Cab  ATLANTA GA  ...   53    11242\n",
              "10000014       28020        Pink Cab  ATLANTA GA  ...   23    23327\n",
              "10000015       27182        Pink Cab  ATLANTA GA  ...   33     8536\n",
              "\n",
              "[5 rows x 11 columns]"
            ]
          },
          "metadata": {},
          "execution_count": 22
        }
      ],
      "source": [
        "#Joining Master dataset with Customer_ID dataset\n",
        "left = Data_Master.set_index([Data_Master.index,'Customer_ID'])\n",
        "right = Customer_ID.set_index(['Customer_ID'])\n",
        "Data_Master = left.join(right)\n",
        "Data_Master.head()"
      ]
    },
    {
      "cell_type": "code",
      "execution_count": null,
      "metadata": {
        "colab": {
          "base_uri": "https://localhost:8080/",
          "height": 394
        },
        "id": "dc8lJyDAkISL",
        "outputId": "a1b5766f-d6e9-4ab1-b4f0-2eb42e806995"
      },
      "outputs": [
        {
          "data": {
            "text/html": [
              "<div>\n",
              "<style scoped>\n",
              "    .dataframe tbody tr th:only-of-type {\n",
              "        vertical-align: middle;\n",
              "    }\n",
              "\n",
              "    .dataframe tbody tr th {\n",
              "        vertical-align: top;\n",
              "    }\n",
              "\n",
              "    .dataframe thead th {\n",
              "        text-align: right;\n",
              "    }\n",
              "</style>\n",
              "<table border=\"1\" class=\"dataframe\">\n",
              "  <thead>\n",
              "    <tr style=\"text-align: right;\">\n",
              "      <th></th>\n",
              "      <th></th>\n",
              "      <th>Transaction_ID</th>\n",
              "      <th>Customer_ID</th>\n",
              "      <th>Company</th>\n",
              "      <th>KM_Travelled</th>\n",
              "      <th>Price_Charged</th>\n",
              "      <th>Cost_of_Trip</th>\n",
              "      <th>Month</th>\n",
              "      <th>Year</th>\n",
              "      <th>Payment_Mode</th>\n",
              "      <th>Gender</th>\n",
              "      <th>Age</th>\n",
              "      <th>Income</th>\n",
              "      <th>Population</th>\n",
              "      <th>Users</th>\n",
              "    </tr>\n",
              "    <tr>\n",
              "      <th></th>\n",
              "      <th>City</th>\n",
              "      <th></th>\n",
              "      <th></th>\n",
              "      <th></th>\n",
              "      <th></th>\n",
              "      <th></th>\n",
              "      <th></th>\n",
              "      <th></th>\n",
              "      <th></th>\n",
              "      <th></th>\n",
              "      <th></th>\n",
              "      <th></th>\n",
              "      <th></th>\n",
              "      <th></th>\n",
              "      <th></th>\n",
              "    </tr>\n",
              "  </thead>\n",
              "  <tbody>\n",
              "    <tr>\n",
              "      <th>0</th>\n",
              "      <th>ATLANTA GA</th>\n",
              "      <td>10000011</td>\n",
              "      <td>29290</td>\n",
              "      <td>Pink Cab</td>\n",
              "      <td>30.45</td>\n",
              "      <td>370.95</td>\n",
              "      <td>313.635</td>\n",
              "      <td>1</td>\n",
              "      <td>2016</td>\n",
              "      <td>Card</td>\n",
              "      <td>Male</td>\n",
              "      <td>28</td>\n",
              "      <td>10813</td>\n",
              "      <td>814,885</td>\n",
              "      <td>24,701</td>\n",
              "    </tr>\n",
              "    <tr>\n",
              "      <th>1</th>\n",
              "      <th>ATLANTA GA</th>\n",
              "      <td>10000012</td>\n",
              "      <td>27703</td>\n",
              "      <td>Pink Cab</td>\n",
              "      <td>28.62</td>\n",
              "      <td>358.52</td>\n",
              "      <td>334.854</td>\n",
              "      <td>1</td>\n",
              "      <td>2016</td>\n",
              "      <td>Card</td>\n",
              "      <td>Male</td>\n",
              "      <td>27</td>\n",
              "      <td>9237</td>\n",
              "      <td>814,885</td>\n",
              "      <td>24,701</td>\n",
              "    </tr>\n",
              "    <tr>\n",
              "      <th>2</th>\n",
              "      <th>ATLANTA GA</th>\n",
              "      <td>10000013</td>\n",
              "      <td>28712</td>\n",
              "      <td>Pink Cab</td>\n",
              "      <td>9.04</td>\n",
              "      <td>125.20</td>\n",
              "      <td>97.632</td>\n",
              "      <td>1</td>\n",
              "      <td>2016</td>\n",
              "      <td>Cash</td>\n",
              "      <td>Male</td>\n",
              "      <td>53</td>\n",
              "      <td>11242</td>\n",
              "      <td>814,885</td>\n",
              "      <td>24,701</td>\n",
              "    </tr>\n",
              "    <tr>\n",
              "      <th>3</th>\n",
              "      <th>ATLANTA GA</th>\n",
              "      <td>10000014</td>\n",
              "      <td>28020</td>\n",
              "      <td>Pink Cab</td>\n",
              "      <td>33.17</td>\n",
              "      <td>377.40</td>\n",
              "      <td>351.602</td>\n",
              "      <td>1</td>\n",
              "      <td>2016</td>\n",
              "      <td>Cash</td>\n",
              "      <td>Male</td>\n",
              "      <td>23</td>\n",
              "      <td>23327</td>\n",
              "      <td>814,885</td>\n",
              "      <td>24,701</td>\n",
              "    </tr>\n",
              "    <tr>\n",
              "      <th>4</th>\n",
              "      <th>ATLANTA GA</th>\n",
              "      <td>10000015</td>\n",
              "      <td>27182</td>\n",
              "      <td>Pink Cab</td>\n",
              "      <td>8.73</td>\n",
              "      <td>114.62</td>\n",
              "      <td>97.776</td>\n",
              "      <td>1</td>\n",
              "      <td>2016</td>\n",
              "      <td>Card</td>\n",
              "      <td>Male</td>\n",
              "      <td>33</td>\n",
              "      <td>8536</td>\n",
              "      <td>814,885</td>\n",
              "      <td>24,701</td>\n",
              "    </tr>\n",
              "    <tr>\n",
              "      <th>5</th>\n",
              "      <th>ATLANTA GA</th>\n",
              "      <td>10000016</td>\n",
              "      <td>27318</td>\n",
              "      <td>Pink Cab</td>\n",
              "      <td>6.06</td>\n",
              "      <td>72.43</td>\n",
              "      <td>63.024</td>\n",
              "      <td>1</td>\n",
              "      <td>2016</td>\n",
              "      <td>Cash</td>\n",
              "      <td>Male</td>\n",
              "      <td>25</td>\n",
              "      <td>13984</td>\n",
              "      <td>814,885</td>\n",
              "      <td>24,701</td>\n",
              "    </tr>\n",
              "    <tr>\n",
              "      <th>6</th>\n",
              "      <th>AUSTIN TX</th>\n",
              "      <td>10000017</td>\n",
              "      <td>33788</td>\n",
              "      <td>Pink Cab</td>\n",
              "      <td>44.00</td>\n",
              "      <td>576.15</td>\n",
              "      <td>475.200</td>\n",
              "      <td>1</td>\n",
              "      <td>2016</td>\n",
              "      <td>Card</td>\n",
              "      <td>Male</td>\n",
              "      <td>23</td>\n",
              "      <td>23788</td>\n",
              "      <td>698,371</td>\n",
              "      <td>14,978</td>\n",
              "    </tr>\n",
              "    <tr>\n",
              "      <th>7</th>\n",
              "      <th>AUSTIN TX</th>\n",
              "      <td>10000018</td>\n",
              "      <td>34106</td>\n",
              "      <td>Pink Cab</td>\n",
              "      <td>35.65</td>\n",
              "      <td>466.10</td>\n",
              "      <td>377.890</td>\n",
              "      <td>1</td>\n",
              "      <td>2016</td>\n",
              "      <td>Card</td>\n",
              "      <td>Male</td>\n",
              "      <td>19</td>\n",
              "      <td>19980</td>\n",
              "      <td>698,371</td>\n",
              "      <td>14,978</td>\n",
              "    </tr>\n",
              "    <tr>\n",
              "      <th>8</th>\n",
              "      <th>BOSTON MA</th>\n",
              "      <td>10000019</td>\n",
              "      <td>59799</td>\n",
              "      <td>Pink Cab</td>\n",
              "      <td>14.40</td>\n",
              "      <td>191.61</td>\n",
              "      <td>146.880</td>\n",
              "      <td>1</td>\n",
              "      <td>2016</td>\n",
              "      <td>Cash</td>\n",
              "      <td>Male</td>\n",
              "      <td>33</td>\n",
              "      <td>19271</td>\n",
              "      <td>248,968</td>\n",
              "      <td>80,021</td>\n",
              "    </tr>\n",
              "    <tr>\n",
              "      <th>9</th>\n",
              "      <th>BOSTON MA</th>\n",
              "      <td>10000020</td>\n",
              "      <td>57982</td>\n",
              "      <td>Pink Cab</td>\n",
              "      <td>10.89</td>\n",
              "      <td>156.98</td>\n",
              "      <td>113.256</td>\n",
              "      <td>1</td>\n",
              "      <td>2016</td>\n",
              "      <td>Cash</td>\n",
              "      <td>Male</td>\n",
              "      <td>57</td>\n",
              "      <td>5068</td>\n",
              "      <td>248,968</td>\n",
              "      <td>80,021</td>\n",
              "    </tr>\n",
              "  </tbody>\n",
              "</table>\n",
              "</div>"
            ],
            "text/plain": [
              "              Transaction_ID  Customer_ID  ... Population     Users\n",
              "  City                                     ...                     \n",
              "0 ATLANTA GA        10000011        29290  ...   814,885    24,701 \n",
              "1 ATLANTA GA        10000012        27703  ...   814,885    24,701 \n",
              "2 ATLANTA GA        10000013        28712  ...   814,885    24,701 \n",
              "3 ATLANTA GA        10000014        28020  ...   814,885    24,701 \n",
              "4 ATLANTA GA        10000015        27182  ...   814,885    24,701 \n",
              "5 ATLANTA GA        10000016        27318  ...   814,885    24,701 \n",
              "6 AUSTIN TX         10000017        33788  ...   698,371    14,978 \n",
              "7 AUSTIN TX         10000018        34106  ...   698,371    14,978 \n",
              "8 BOSTON MA         10000019        59799  ...   248,968    80,021 \n",
              "9 BOSTON MA         10000020        57982  ...   248,968    80,021 \n",
              "\n",
              "[10 rows x 14 columns]"
            ]
          },
          "execution_count": 36,
          "metadata": {},
          "output_type": "execute_result"
        }
      ],
      "source": [
        "#Joining Master dataset with City dataset\n",
        "left = Data_Master.set_index([Data_Master.index,'City'])\n",
        "right = City.set_index(['City'])\n",
        "Data_Master = left.join(right)\n",
        "Data_Master.head(10)"
      ]
    },
    {
      "cell_type": "code",
      "execution_count": 23,
      "metadata": {
        "colab": {
          "base_uri": "https://localhost:8080/"
        },
        "id": "HbK4C84tqrWT",
        "outputId": "f539abb8-c3e8-4d66-b9af-1b83142045a6"
      },
      "outputs": [
        {
          "output_type": "stream",
          "name": "stdout",
          "text": [
            "<class 'pandas.core.frame.DataFrame'>\n",
            "MultiIndex: 359392 entries, (10000011, 29290) to (10440107, 52917)\n",
            "Data columns (total 11 columns):\n",
            " #   Column         Non-Null Count   Dtype  \n",
            "---  ------         --------------   -----  \n",
            " 0   Company        359392 non-null  object \n",
            " 1   City           359392 non-null  object \n",
            " 2   KM_Travelled   359392 non-null  float64\n",
            " 3   Price_Charged  359392 non-null  float64\n",
            " 4   Cost_of_Trip   359392 non-null  float64\n",
            " 5   Month          359392 non-null  int64  \n",
            " 6   Year           359392 non-null  int64  \n",
            " 7   Payment_Mode   359392 non-null  object \n",
            " 8   Gender         359392 non-null  object \n",
            " 9   Age            359392 non-null  int64  \n",
            " 10  Income_        359392 non-null  int64  \n",
            "dtypes: float64(3), int64(4), object(4)\n",
            "memory usage: 47.2+ MB\n"
          ]
        }
      ],
      "source": [
        "#Getting the displayed information for all 4 dateset joined together as one dataset\n",
        "Data_Master.info()\n"
      ]
    },
    {
      "cell_type": "code",
      "execution_count": 24,
      "metadata": {
        "id": "kRMmgA-mInEh"
      },
      "outputs": [],
      "source": [
        "#Renaming column name Income_(USD/Month) to \"Income\"\n",
        "Data_Master = Data_Master.reset_index()\n",
        "Data_Master = Data_Master.rename(columns={'Income_(USD/Month)':'Income'})\n"
      ]
    },
    {
      "cell_type": "code",
      "execution_count": 25,
      "metadata": {
        "colab": {
          "base_uri": "https://localhost:8080/",
          "height": 206
        },
        "id": "tM6e4LMzKGuu",
        "outputId": "c4fac556-7a02-4191-aa9a-7a1f1b31520e"
      },
      "outputs": [
        {
          "output_type": "execute_result",
          "data": {
            "text/html": [
              "<div>\n",
              "<style scoped>\n",
              "    .dataframe tbody tr th:only-of-type {\n",
              "        vertical-align: middle;\n",
              "    }\n",
              "\n",
              "    .dataframe tbody tr th {\n",
              "        vertical-align: top;\n",
              "    }\n",
              "\n",
              "    .dataframe thead th {\n",
              "        text-align: right;\n",
              "    }\n",
              "</style>\n",
              "<table border=\"1\" class=\"dataframe\">\n",
              "  <thead>\n",
              "    <tr style=\"text-align: right;\">\n",
              "      <th></th>\n",
              "      <th>Transaction_ID</th>\n",
              "      <th>Customer_ID</th>\n",
              "      <th>Company</th>\n",
              "      <th>City</th>\n",
              "      <th>KM_Travelled</th>\n",
              "      <th>Price_Charged</th>\n",
              "      <th>Cost_of_Trip</th>\n",
              "      <th>Month</th>\n",
              "      <th>Year</th>\n",
              "      <th>Payment_Mode</th>\n",
              "      <th>Gender</th>\n",
              "      <th>Age</th>\n",
              "      <th>Income_</th>\n",
              "    </tr>\n",
              "  </thead>\n",
              "  <tbody>\n",
              "    <tr>\n",
              "      <th>233</th>\n",
              "      <td>10000384</td>\n",
              "      <td>27602</td>\n",
              "      <td>Yellow Cab</td>\n",
              "      <td>ATLANTA GA</td>\n",
              "      <td>33.93</td>\n",
              "      <td>1341.17</td>\n",
              "      <td>464.1624</td>\n",
              "      <td>1</td>\n",
              "      <td>2016</td>\n",
              "      <td>Card</td>\n",
              "      <td>Male</td>\n",
              "      <td>23</td>\n",
              "      <td>8542</td>\n",
              "    </tr>\n",
              "    <tr>\n",
              "      <th>234</th>\n",
              "      <td>10000385</td>\n",
              "      <td>27594</td>\n",
              "      <td>Yellow Cab</td>\n",
              "      <td>ATLANTA GA</td>\n",
              "      <td>42.18</td>\n",
              "      <td>1412.06</td>\n",
              "      <td>516.2832</td>\n",
              "      <td>1</td>\n",
              "      <td>2016</td>\n",
              "      <td>Cash</td>\n",
              "      <td>Male</td>\n",
              "      <td>28</td>\n",
              "      <td>3901</td>\n",
              "    </tr>\n",
              "    <tr>\n",
              "      <th>235</th>\n",
              "      <td>10000386</td>\n",
              "      <td>27884</td>\n",
              "      <td>Yellow Cab</td>\n",
              "      <td>ATLANTA GA</td>\n",
              "      <td>10.60</td>\n",
              "      <td>364.62</td>\n",
              "      <td>132.2880</td>\n",
              "      <td>1</td>\n",
              "      <td>2016</td>\n",
              "      <td>Cash</td>\n",
              "      <td>Male</td>\n",
              "      <td>32</td>\n",
              "      <td>13505</td>\n",
              "    </tr>\n",
              "    <tr>\n",
              "      <th>236</th>\n",
              "      <td>10000387</td>\n",
              "      <td>28533</td>\n",
              "      <td>Yellow Cab</td>\n",
              "      <td>ATLANTA GA</td>\n",
              "      <td>26.75</td>\n",
              "      <td>838.00</td>\n",
              "      <td>333.8400</td>\n",
              "      <td>1</td>\n",
              "      <td>2016</td>\n",
              "      <td>Cash</td>\n",
              "      <td>Male</td>\n",
              "      <td>39</td>\n",
              "      <td>28386</td>\n",
              "    </tr>\n",
              "    <tr>\n",
              "      <th>237</th>\n",
              "      <td>10000388</td>\n",
              "      <td>29039</td>\n",
              "      <td>Yellow Cab</td>\n",
              "      <td>ATLANTA GA</td>\n",
              "      <td>46.02</td>\n",
              "      <td>1540.61</td>\n",
              "      <td>596.4192</td>\n",
              "      <td>1</td>\n",
              "      <td>2016</td>\n",
              "      <td>Card</td>\n",
              "      <td>Male</td>\n",
              "      <td>35</td>\n",
              "      <td>17761</td>\n",
              "    </tr>\n",
              "  </tbody>\n",
              "</table>\n",
              "</div>"
            ],
            "text/plain": [
              "     Transaction_ID  Customer_ID     Company  ... Gender  Age  Income_\n",
              "233        10000384        27602  Yellow Cab  ...   Male   23     8542\n",
              "234        10000385        27594  Yellow Cab  ...   Male   28     3901\n",
              "235        10000386        27884  Yellow Cab  ...   Male   32    13505\n",
              "236        10000387        28533  Yellow Cab  ...   Male   39    28386\n",
              "237        10000388        29039  Yellow Cab  ...   Male   35    17761\n",
              "\n",
              "[5 rows x 13 columns]"
            ]
          },
          "metadata": {},
          "execution_count": 25
        }
      ],
      "source": [
        "Yellow_Cab = Data_Master[Data_Master['Company'] == 'Yellow Cab']\n",
        "Yellow_Cab.head()"
      ]
    },
    {
      "cell_type": "code",
      "execution_count": 36,
      "metadata": {
        "colab": {
          "base_uri": "https://localhost:8080/",
          "height": 348
        },
        "id": "MDRNbS-B25No",
        "outputId": "6111dd47-0d4a-47f3-e1f0-ee12421e12ab"
      },
      "outputs": [
        {
          "output_type": "execute_result",
          "data": {
            "text/plain": [
              "Text(0, 0.5, 'frequency')"
            ]
          },
          "metadata": {},
          "execution_count": 36
        },
        {
          "output_type": "display_data",
          "data": {
            "image/png": "[encoded data removed]",
            "text/plain": [
              "<Figure size 432x288 with 1 Axes>"
            ]
          },
          "metadata": {}
        }
      ],
      "source": [
        "#Ploting the distribution of the KM travelled Yellow Cab\n",
        "ax = sns.distplot(Yellow_Cab['KM_Travelled'], kde=False, color='blue',bins=70)\n",
        "plt.title(\"Distribution of KM Travelled (Yellow Cab)\", fontsize=25, y=1.02)\n",
        "plt.xlabel(\"KM Travelled\", labelpad=20)\n",
        "plt.ylabel(\"frequency\", labelpad=20)"
      ]
    },
    {
      "cell_type": "code",
      "execution_count": 103,
      "metadata": {
        "colab": {
          "base_uri": "https://localhost:8080/"
        },
        "id": "O4c24vFNUt7y",
        "outputId": "0193e295-7d70-4f66-ddd8-4892d59a006f"
      },
      "outputs": [
        {
          "output_type": "execute_result",
          "data": {
            "text/plain": [
              "Year\n",
              "2016    82937\n",
              "2017    97759\n",
              "2018    93985\n",
              "Name: Transaction_ID, dtype: int64"
            ]
          },
          "metadata": {},
          "execution_count": 103
        }
      ],
      "source": [
        "plt1 = Data_Master[Data_Master.Company=='Yellow Cab'].groupby(['Year']).Transaction_ID.count()\n",
        "plt1"
      ]
    },
    {
      "cell_type": "code",
      "execution_count": 104,
      "metadata": {
        "colab": {
          "base_uri": "https://localhost:8080/",
          "height": 412
        },
        "id": "6cdTO9yO3wdI",
        "outputId": "c7e938c9-5ae6-4c55-d060-c8eaa56cb323"
      },
      "outputs": [
        {
          "output_type": "display_data",
          "data": {
            "image/png": "[encoded data removed]",
            "text/plain": [
              "<Figure size 1008x432 with 1 Axes>"
            ]
          },
          "metadata": {}
        }
      ],
      "source": [
        "#Ploting for frequecncy covered in a year (Yellow Cab)\n",
        "plt.figure(figsize=(14,6))\n",
        "sns.barplot(x=plt1.index,y=plt1.values)\n",
        "plt.title('Travel frequency by Year (Yellow Cab)',fontsize = 14)\n",
        "plt.xlabel('Year', fontsize = 14)\n",
        "6\n",
        "plt.ylabel('Values',fontsize = 14)\n",
        "plt.show()"
      ]
    },
    {
      "cell_type": "code",
      "execution_count": 26,
      "metadata": {
        "colab": {
          "base_uri": "https://localhost:8080/",
          "height": 206
        },
        "id": "I4DPlgxzMRf4",
        "outputId": "2f800af3-7e73-4902-aee7-4e7ad20bd0e7"
      },
      "outputs": [
        {
          "output_type": "execute_result",
          "data": {
            "text/html": [
              "<div>\n",
              "<style scoped>\n",
              "    .dataframe tbody tr th:only-of-type {\n",
              "        vertical-align: middle;\n",
              "    }\n",
              "\n",
              "    .dataframe tbody tr th {\n",
              "        vertical-align: top;\n",
              "    }\n",
              "\n",
              "    .dataframe thead th {\n",
              "        text-align: right;\n",
              "    }\n",
              "</style>\n",
              "<table border=\"1\" class=\"dataframe\">\n",
              "  <thead>\n",
              "    <tr style=\"text-align: right;\">\n",
              "      <th></th>\n",
              "      <th>Transaction_ID</th>\n",
              "      <th>Customer_ID</th>\n",
              "      <th>Company</th>\n",
              "      <th>City</th>\n",
              "      <th>KM_Travelled</th>\n",
              "      <th>Price_Charged</th>\n",
              "      <th>Cost_of_Trip</th>\n",
              "      <th>Month</th>\n",
              "      <th>Year</th>\n",
              "      <th>Payment_Mode</th>\n",
              "      <th>Gender</th>\n",
              "      <th>Age</th>\n",
              "      <th>Income_</th>\n",
              "    </tr>\n",
              "  </thead>\n",
              "  <tbody>\n",
              "    <tr>\n",
              "      <th>0</th>\n",
              "      <td>10000011</td>\n",
              "      <td>29290</td>\n",
              "      <td>Pink Cab</td>\n",
              "      <td>ATLANTA GA</td>\n",
              "      <td>30.45</td>\n",
              "      <td>370.95</td>\n",
              "      <td>313.635</td>\n",
              "      <td>1</td>\n",
              "      <td>2016</td>\n",
              "      <td>Card</td>\n",
              "      <td>Male</td>\n",
              "      <td>28</td>\n",
              "      <td>10813</td>\n",
              "    </tr>\n",
              "    <tr>\n",
              "      <th>1</th>\n",
              "      <td>10000012</td>\n",
              "      <td>27703</td>\n",
              "      <td>Pink Cab</td>\n",
              "      <td>ATLANTA GA</td>\n",
              "      <td>28.62</td>\n",
              "      <td>358.52</td>\n",
              "      <td>334.854</td>\n",
              "      <td>1</td>\n",
              "      <td>2016</td>\n",
              "      <td>Card</td>\n",
              "      <td>Male</td>\n",
              "      <td>27</td>\n",
              "      <td>9237</td>\n",
              "    </tr>\n",
              "    <tr>\n",
              "      <th>2</th>\n",
              "      <td>10000013</td>\n",
              "      <td>28712</td>\n",
              "      <td>Pink Cab</td>\n",
              "      <td>ATLANTA GA</td>\n",
              "      <td>9.04</td>\n",
              "      <td>125.20</td>\n",
              "      <td>97.632</td>\n",
              "      <td>1</td>\n",
              "      <td>2016</td>\n",
              "      <td>Cash</td>\n",
              "      <td>Male</td>\n",
              "      <td>53</td>\n",
              "      <td>11242</td>\n",
              "    </tr>\n",
              "    <tr>\n",
              "      <th>3</th>\n",
              "      <td>10000014</td>\n",
              "      <td>28020</td>\n",
              "      <td>Pink Cab</td>\n",
              "      <td>ATLANTA GA</td>\n",
              "      <td>33.17</td>\n",
              "      <td>377.40</td>\n",
              "      <td>351.602</td>\n",
              "      <td>1</td>\n",
              "      <td>2016</td>\n",
              "      <td>Cash</td>\n",
              "      <td>Male</td>\n",
              "      <td>23</td>\n",
              "      <td>23327</td>\n",
              "    </tr>\n",
              "    <tr>\n",
              "      <th>4</th>\n",
              "      <td>10000015</td>\n",
              "      <td>27182</td>\n",
              "      <td>Pink Cab</td>\n",
              "      <td>ATLANTA GA</td>\n",
              "      <td>8.73</td>\n",
              "      <td>114.62</td>\n",
              "      <td>97.776</td>\n",
              "      <td>1</td>\n",
              "      <td>2016</td>\n",
              "      <td>Card</td>\n",
              "      <td>Male</td>\n",
              "      <td>33</td>\n",
              "      <td>8536</td>\n",
              "    </tr>\n",
              "  </tbody>\n",
              "</table>\n",
              "</div>"
            ],
            "text/plain": [
              "   Transaction_ID  Customer_ID   Company  ... Gender  Age  Income_\n",
              "0        10000011        29290  Pink Cab  ...   Male   28    10813\n",
              "1        10000012        27703  Pink Cab  ...   Male   27     9237\n",
              "2        10000013        28712  Pink Cab  ...   Male   53    11242\n",
              "3        10000014        28020  Pink Cab  ...   Male   23    23327\n",
              "4        10000015        27182  Pink Cab  ...   Male   33     8536\n",
              "\n",
              "[5 rows x 13 columns]"
            ]
          },
          "metadata": {},
          "execution_count": 26
        }
      ],
      "source": [
        "Pink_Cab = Data_Master[Data_Master['Company'] == 'Pink Cab']\n",
        "Pink_Cab.head()"
      ]
    },
    {
      "cell_type": "code",
      "execution_count": 41,
      "metadata": {
        "colab": {
          "base_uri": "https://localhost:8080/",
          "height": 348
        },
        "id": "SqxuSLoN1Etg",
        "outputId": "ce184ec1-9aab-4021-9411-f8b81a6a5834"
      },
      "outputs": [
        {
          "output_type": "execute_result",
          "data": {
            "text/plain": [
              "Text(0, 0.5, 'frequency')"
            ]
          },
          "metadata": {},
          "execution_count": 41
        },
        {
          "output_type": "display_data",
          "data": {
            "image/png": "[encoded data removed]",
            "text/plain": [
              "<Figure size 432x288 with 1 Axes>"
            ]
          },
          "metadata": {}
        }
      ],
      "source": [
        "#Ploting the distribution of the KM travelled Pink Cab\n",
        "ax = sns.distplot(Pink_Cab['KM_Travelled'], kde=False, color='blue',bins=70)\n",
        "plt.title(\"Distribution of KM Travelled (Pink Cab)\", fontsize=25, y=1.02)\n",
        "plt.xlabel(\"KM Travelled\", labelpad=20)\n",
        "plt.ylabel(\"frequency\", labelpad=20)"
      ]
    },
    {
      "cell_type": "code",
      "execution_count": 105,
      "metadata": {
        "colab": {
          "base_uri": "https://localhost:8080/"
        },
        "id": "w8bc3otD44Sv",
        "outputId": "0bef8d49-e4c7-426a-b29c-b565afe79900"
      },
      "outputs": [
        {
          "output_type": "execute_result",
          "data": {
            "text/plain": [
              "Year\n",
              "2016    25285\n",
              "2017    30205\n",
              "2018    29221\n",
              "Name: Transaction_ID, dtype: int64"
            ]
          },
          "metadata": {},
          "execution_count": 105
        }
      ],
      "source": [
        "plt2= Data_Master[Data_Master.Company=='Pink Cab'].groupby(['Year']).Transaction_ID.count()\n",
        "plt2"
      ]
    },
    {
      "cell_type": "code",
      "execution_count": 106,
      "metadata": {
        "colab": {
          "base_uri": "https://localhost:8080/",
          "height": 412
        },
        "id": "Nrmy5QzL4VZU",
        "outputId": "77b02719-0ff4-4570-f3f6-3291a29e7124"
      },
      "outputs": [
        {
          "output_type": "display_data",
          "data": {
            "image/png": "[encoded data removed]",
            "text/plain": [
              "<Figure size 1008x432 with 1 Axes>"
            ]
          },
          "metadata": {}
        }
      ],
      "source": [
        "#Ploting the frequency covered in a year (Pink Cab)\n",
        "plt.figure(figsize=(14,6))\n",
        "sns.barplot(x=plt2.index,y=plt2.values)\n",
        "plt.title('Travel frequency by Year (Pink Cab)',fontsize = 14)\n",
        "plt.xlabel('Year', fontsize = 14)\n",
        "plt.ylabel('Values',fontsize = 14)\n",
        "plt.show()"
      ]
    },
    {
      "cell_type": "markdown",
      "source": [
        "## **Yellow Cab had a higher frequency to Pink Cab**\n",
        "\n",
        "##**Both Cab companies had higher transaction rate in 2017**"
      ],
      "metadata": {
        "id": "w5D7W3QiKHaJ"
      }
    },
    {
      "cell_type": "code",
      "execution_count": 107,
      "metadata": {
        "colab": {
          "base_uri": "https://localhost:8080/"
        },
        "id": "xC4hkmpcW4AN",
        "outputId": "e8f3314a-dc20-48f6-9d25-613312ed6eab"
      },
      "outputs": [
        {
          "output_type": "execute_result",
          "data": {
            "text/plain": [
              "Month\n",
              "1     17468\n",
              "2     14928\n",
              "3     17516\n",
              "4     17535\n",
              "5     18809\n",
              "6     18656\n",
              "7     21074\n",
              "8     24328\n",
              "9     27356\n",
              "10    29609\n",
              "11    32609\n",
              "12    34793\n",
              "Name: Transaction_ID, dtype: int64"
            ]
          },
          "metadata": {},
          "execution_count": 107
        }
      ],
      "source": [
        "plt1= Data_Master[Data_Master.Company=='Yellow Cab'].groupby(['Month']).Transaction_ID.count()\n",
        "plt1"
      ]
    },
    {
      "cell_type": "code",
      "execution_count": 108,
      "metadata": {
        "colab": {
          "base_uri": "https://localhost:8080/",
          "height": 429
        },
        "id": "oN9qSaUFXFbn",
        "outputId": "514dfe45-dd1a-429b-dd14-cfd7f0ba72cc"
      },
      "outputs": [
        {
          "output_type": "execute_result",
          "data": {
            "text/plain": [
              "<function matplotlib.pyplot.show>"
            ]
          },
          "metadata": {},
          "execution_count": 108
        },
        {
          "output_type": "display_data",
          "data": {
            "image/png": "[encoded data removed]",
            "text/plain": [
              "<Figure size 1008x432 with 1 Axes>"
            ]
          },
          "metadata": {}
        }
      ],
      "source": [
        "plt.figure(figsize=(14,6))\n",
        "sns.barplot(x=plt1.index,y=plt1.values)\n",
        "plt.title('Travel frequency by Month (Yellow Cab)',fontsize = 14)\n",
        "plt.xlabel('Month', fontsize = 14)\n",
        "plt.ylabel('Values',fontsize = 14)\n",
        "plt.show"
      ]
    },
    {
      "cell_type": "code",
      "execution_count": 109,
      "metadata": {
        "colab": {
          "base_uri": "https://localhost:8080/"
        },
        "id": "pCyW-QsN69WG",
        "outputId": "d122b48d-24a2-4b05-d3d6-2e0c328ee82e"
      },
      "outputs": [
        {
          "output_type": "execute_result",
          "data": {
            "text/plain": [
              "Month\n",
              "1      4825\n",
              "2      3392\n",
              "3      4228\n",
              "4      4140\n",
              "5      5023\n",
              "6      5820\n",
              "7      6585\n",
              "8      8061\n",
              "9      9647\n",
              "10    10366\n",
              "11    11324\n",
              "12    11300\n",
              "Name: Transaction_ID, dtype: int64"
            ]
          },
          "metadata": {},
          "execution_count": 109
        }
      ],
      "source": [
        "plt2= Data_Master[Data_Master.Company=='Pink Cab'].groupby(['Month']).Transaction_ID.count()\n",
        "plt2"
      ]
    },
    {
      "cell_type": "code",
      "execution_count": 111,
      "metadata": {
        "colab": {
          "base_uri": "https://localhost:8080/",
          "height": 429
        },
        "id": "-nq09YAb6Iqt",
        "outputId": "78297219-bcc7-407f-9902-fdcb2ca689a8"
      },
      "outputs": [
        {
          "output_type": "execute_result",
          "data": {
            "text/plain": [
              "<function matplotlib.pyplot.show>"
            ]
          },
          "metadata": {},
          "execution_count": 111
        },
        {
          "output_type": "display_data",
          "data": {
            "image/png": "[encoded data removed]",
            "text/plain": [
              "<Figure size 1008x432 with 1 Axes>"
            ]
          },
          "metadata": {}
        }
      ],
      "source": [
        "plt.figure(figsize=(14,6))\n",
        "sns.barplot(x=plt2.index,y=plt2.values)\n",
        "plt.title('Travel frequency by Month (Pink Cab)',fontsize = 14)\n",
        "plt.xlabel('Month', fontsize = 14)\n",
        "plt.ylabel('Values',fontsize = 14)\n",
        "plt.show\n"
      ]
    },
    {
      "cell_type": "code",
      "execution_count": 27,
      "metadata": {
        "id": "Vs7Hv2E_UC7W"
      },
      "outputs": [],
      "source": [
        "Data_Master['Profit'] = Data_Master['Price_Charged']-Data_Master['Cost_of_Trip']"
      ]
    },
    {
      "cell_type": "code",
      "execution_count": 93,
      "metadata": {
        "colab": {
          "base_uri": "https://localhost:8080/",
          "height": 206
        },
        "id": "sLp-azsCcq3G",
        "outputId": "54357899-fb68-4c16-a19b-6cf2e79a4988"
      },
      "outputs": [
        {
          "output_type": "execute_result",
          "data": {
            "text/html": [
              "<div>\n",
              "<style scoped>\n",
              "    .dataframe tbody tr th:only-of-type {\n",
              "        vertical-align: middle;\n",
              "    }\n",
              "\n",
              "    .dataframe tbody tr th {\n",
              "        vertical-align: top;\n",
              "    }\n",
              "\n",
              "    .dataframe thead th {\n",
              "        text-align: right;\n",
              "    }\n",
              "</style>\n",
              "<table border=\"1\" class=\"dataframe\">\n",
              "  <thead>\n",
              "    <tr style=\"text-align: right;\">\n",
              "      <th></th>\n",
              "      <th>Transaction_ID</th>\n",
              "      <th>Customer_ID</th>\n",
              "      <th>Company</th>\n",
              "      <th>City</th>\n",
              "      <th>KM_Travelled</th>\n",
              "      <th>Price_Charged</th>\n",
              "      <th>Cost_of_Trip</th>\n",
              "      <th>Month</th>\n",
              "      <th>Year</th>\n",
              "      <th>Payment_Mode</th>\n",
              "      <th>Gender</th>\n",
              "      <th>Age</th>\n",
              "      <th>Income_</th>\n",
              "      <th>Profit</th>\n",
              "    </tr>\n",
              "  </thead>\n",
              "  <tbody>\n",
              "    <tr>\n",
              "      <th>0</th>\n",
              "      <td>10000011</td>\n",
              "      <td>29290</td>\n",
              "      <td>Pink Cab</td>\n",
              "      <td>ATLANTA GA</td>\n",
              "      <td>30.45</td>\n",
              "      <td>370.95</td>\n",
              "      <td>313.635</td>\n",
              "      <td>1</td>\n",
              "      <td>2016</td>\n",
              "      <td>Card</td>\n",
              "      <td>Male</td>\n",
              "      <td>28</td>\n",
              "      <td>10813</td>\n",
              "      <td>57.315</td>\n",
              "    </tr>\n",
              "    <tr>\n",
              "      <th>1</th>\n",
              "      <td>10000012</td>\n",
              "      <td>27703</td>\n",
              "      <td>Pink Cab</td>\n",
              "      <td>ATLANTA GA</td>\n",
              "      <td>28.62</td>\n",
              "      <td>358.52</td>\n",
              "      <td>334.854</td>\n",
              "      <td>1</td>\n",
              "      <td>2016</td>\n",
              "      <td>Card</td>\n",
              "      <td>Male</td>\n",
              "      <td>27</td>\n",
              "      <td>9237</td>\n",
              "      <td>23.666</td>\n",
              "    </tr>\n",
              "    <tr>\n",
              "      <th>2</th>\n",
              "      <td>10000013</td>\n",
              "      <td>28712</td>\n",
              "      <td>Pink Cab</td>\n",
              "      <td>ATLANTA GA</td>\n",
              "      <td>9.04</td>\n",
              "      <td>125.20</td>\n",
              "      <td>97.632</td>\n",
              "      <td>1</td>\n",
              "      <td>2016</td>\n",
              "      <td>Cash</td>\n",
              "      <td>Male</td>\n",
              "      <td>53</td>\n",
              "      <td>11242</td>\n",
              "      <td>27.568</td>\n",
              "    </tr>\n",
              "    <tr>\n",
              "      <th>3</th>\n",
              "      <td>10000014</td>\n",
              "      <td>28020</td>\n",
              "      <td>Pink Cab</td>\n",
              "      <td>ATLANTA GA</td>\n",
              "      <td>33.17</td>\n",
              "      <td>377.40</td>\n",
              "      <td>351.602</td>\n",
              "      <td>1</td>\n",
              "      <td>2016</td>\n",
              "      <td>Cash</td>\n",
              "      <td>Male</td>\n",
              "      <td>23</td>\n",
              "      <td>23327</td>\n",
              "      <td>25.798</td>\n",
              "    </tr>\n",
              "    <tr>\n",
              "      <th>4</th>\n",
              "      <td>10000015</td>\n",
              "      <td>27182</td>\n",
              "      <td>Pink Cab</td>\n",
              "      <td>ATLANTA GA</td>\n",
              "      <td>8.73</td>\n",
              "      <td>114.62</td>\n",
              "      <td>97.776</td>\n",
              "      <td>1</td>\n",
              "      <td>2016</td>\n",
              "      <td>Card</td>\n",
              "      <td>Male</td>\n",
              "      <td>33</td>\n",
              "      <td>8536</td>\n",
              "      <td>16.844</td>\n",
              "    </tr>\n",
              "  </tbody>\n",
              "</table>\n",
              "</div>"
            ],
            "text/plain": [
              "   Transaction_ID  Customer_ID   Company  ... Age  Income_  Profit\n",
              "0        10000011        29290  Pink Cab  ...  28    10813  57.315\n",
              "1        10000012        27703  Pink Cab  ...  27     9237  23.666\n",
              "2        10000013        28712  Pink Cab  ...  53    11242  27.568\n",
              "3        10000014        28020  Pink Cab  ...  23    23327  25.798\n",
              "4        10000015        27182  Pink Cab  ...  33     8536  16.844\n",
              "\n",
              "[5 rows x 14 columns]"
            ]
          },
          "metadata": {},
          "execution_count": 93
        }
      ],
      "source": [
        "Data_Master.head()"
      ]
    },
    {
      "cell_type": "code",
      "execution_count": 28,
      "metadata": {
        "colab": {
          "base_uri": "https://localhost:8080/",
          "height": 469
        },
        "id": "dTsLfnI0_0GV",
        "outputId": "d24c7271-a991-4e68-f463-33718050614b"
      },
      "outputs": [
        {
          "output_type": "display_data",
          "data": {
            "image/png": "[encoded data removed]",
            "text/plain": [
              "<Figure size 1440x504 with 2 Axes>"
            ]
          },
          "metadata": {
            "needs_background": "light"
          }
        }
      ],
      "source": [
        "#Ploting the a range of the passengers that used these Compaines\n",
        "fig, (ax1, ax2) = plt.subplots(ncols=2, figsize=(20,7))\n",
        "sns.boxplot(Pink_Cab['Age'], ax=ax1)\n",
        "ax1.set_title('Pink Cab', fontsize=20)\n",
        "sns.boxplot(Yellow_Cab['Age'], ax=ax2)\n",
        "ax2.set_title('Yellow Cab', fontsize=20)\n",
        "plt.show()"
      ]
    },
    {
      "cell_type": "markdown",
      "source": [
        "# **The age range of the passengers were between 20 t0 65 years**"
      ],
      "metadata": {
        "id": "rNUobwkCLIfV"
      }
    },
    {
      "cell_type": "code",
      "source": [
        "plt1 = Data_Cab[Data_Cab.Company=='Pink Cab'].groupby('Month').Transaction_ID.count()\n",
        "plt2 = Data_Cab[Data_Cab.Company=='Yellow Cab'].groupby('Month').Transaction_ID.count()\n",
        "plt.figure(figsize=(14,6))\n",
        "ax = plt.subplot(111)\n",
        "ax.bar(plt1.index-0.2, plt1.values, width=0.4, color='pink', align='center',label='Pink Cab')\n",
        "ax.bar(plt1.index+0.2, plt2.values, width=0.4, color='yellow', align='center',label='Yellow Cab')\n",
        "plt.title(\"Pink cab vs Yellow cab\",fontsize = 16)\n",
        "plt.ylabel('No. of Transactions',fontsize = 14)\n",
        "plt.xlabel('Month',fontsize = 14)\n",
        "plt.legend()\n",
        "plt.show()"
      ],
      "metadata": {
        "colab": {
          "base_uri": "https://localhost:8080/",
          "height": 413
        },
        "id": "uLQsIA62oTcw",
        "outputId": "38ea3534-4d42-4209-a430-9b9f27aa66a4"
      },
      "execution_count": 117,
      "outputs": [
        {
          "output_type": "display_data",
          "data": {
            "image/png": "[encoded data removed]",
            "text/plain": [
              "<Figure size 1008x432 with 1 Axes>"
            ]
          },
          "metadata": {}
        }
      ]
    },
    {
      "cell_type": "code",
      "source": [
        ""
      ],
      "metadata": {
        "id": "YGHN1F1KMPqR"
      },
      "execution_count": null,
      "outputs": []
    },
    {
      "cell_type": "markdown",
      "source": [
        "# **From the above  Visual I did advice XYZ to invest with Yellow Cab**"
      ],
      "metadata": {
        "id": "z4fynj_UMQmc"
      }
    },
    {
      "cell_type": "code",
      "execution_count": 30,
      "metadata": {
        "colab": {
          "base_uri": "https://localhost:8080/"
        },
        "id": "fssjOi1Oh-Vn",
        "outputId": "2384ed9a-d418-44bb-a1ec-ff3b1be91840"
      },
      "outputs": [
        {
          "output_type": "execute_result",
          "data": {
            "text/plain": [
              "Transaction_ID   -220127.5000\n",
              "Customer_ID       -33373.0000\n",
              "KM_Travelled         -20.9600\n",
              "Price_Charged       -377.2225\n",
              "Cost_of_Trip        -262.4832\n",
              "Month                 -6.0000\n",
              "Year                  -2.0000\n",
              "Age                  -17.0000\n",
              "Income_           -12611.0000\n",
              "Profit              -162.0180\n",
              "Name: IQR, dtype: float64"
            ]
          },
          "metadata": {},
          "execution_count": 30
        }
      ],
      "source": [
        "def quantile_statistics(Data_Master):\n",
        "    Q1=Data_Master.quantile(0.75)\n",
        "    Q3=Data_Master.quantile(0.25)\n",
        "\n",
        "    # interquartile range \n",
        "    IQR=Q3-Q1\n",
        "    IQR.name='IQR'\n",
        "    return IQR,Q1,Q3\n",
        "\n",
        "\n",
        "IQR,_,_=quantile_statistics(Data_Master)\n",
        "IQR\n"
      ]
    },
    {
      "cell_type": "code",
      "execution_count": 33,
      "metadata": {
        "colab": {
          "base_uri": "https://localhost:8080/",
          "height": 332
        },
        "id": "xRkDbCyDj4hb",
        "outputId": "0da33746-cd7d-4376-edbc-c986a043c9a8"
      },
      "outputs": [
        {
          "output_type": "execute_result",
          "data": {
            "text/html": [
              "<div>\n",
              "<style scoped>\n",
              "    .dataframe tbody tr th:only-of-type {\n",
              "        vertical-align: middle;\n",
              "    }\n",
              "\n",
              "    .dataframe tbody tr th {\n",
              "        vertical-align: top;\n",
              "    }\n",
              "\n",
              "    .dataframe thead th {\n",
              "        text-align: right;\n",
              "    }\n",
              "</style>\n",
              "<table border=\"1\" class=\"dataframe\">\n",
              "  <thead>\n",
              "    <tr style=\"text-align: right;\">\n",
              "      <th></th>\n",
              "      <th>Transaction_ID</th>\n",
              "      <th>Customer_ID</th>\n",
              "      <th>KM_Travelled</th>\n",
              "      <th>Price_Charged</th>\n",
              "      <th>Cost_of_Trip</th>\n",
              "      <th>Month</th>\n",
              "      <th>Year</th>\n",
              "      <th>Age</th>\n",
              "      <th>Income_</th>\n",
              "      <th>Profit</th>\n",
              "    </tr>\n",
              "  </thead>\n",
              "  <tbody>\n",
              "    <tr>\n",
              "      <th>count</th>\n",
              "      <td>3.593920e+05</td>\n",
              "      <td>359392.000000</td>\n",
              "      <td>359392.000000</td>\n",
              "      <td>359392.000000</td>\n",
              "      <td>359392.000000</td>\n",
              "      <td>359392.000000</td>\n",
              "      <td>359392.000000</td>\n",
              "      <td>359392.000000</td>\n",
              "      <td>359392.000000</td>\n",
              "      <td>359392.000000</td>\n",
              "    </tr>\n",
              "    <tr>\n",
              "      <th>mean</th>\n",
              "      <td>1.022076e+07</td>\n",
              "      <td>19191.652115</td>\n",
              "      <td>22.567254</td>\n",
              "      <td>423.443311</td>\n",
              "      <td>286.190113</td>\n",
              "      <td>7.509243</td>\n",
              "      <td>2017.041693</td>\n",
              "      <td>35.336705</td>\n",
              "      <td>15048.822937</td>\n",
              "      <td>137.253198</td>\n",
              "    </tr>\n",
              "    <tr>\n",
              "      <th>std</th>\n",
              "      <td>1.268058e+05</td>\n",
              "      <td>21012.412463</td>\n",
              "      <td>12.233526</td>\n",
              "      <td>274.378911</td>\n",
              "      <td>157.993661</td>\n",
              "      <td>3.428929</td>\n",
              "      <td>0.801378</td>\n",
              "      <td>12.594234</td>\n",
              "      <td>7969.409482</td>\n",
              "      <td>160.311840</td>\n",
              "    </tr>\n",
              "    <tr>\n",
              "      <th>min</th>\n",
              "      <td>1.000001e+07</td>\n",
              "      <td>1.000000</td>\n",
              "      <td>1.900000</td>\n",
              "      <td>15.600000</td>\n",
              "      <td>19.000000</td>\n",
              "      <td>1.000000</td>\n",
              "      <td>2016.000000</td>\n",
              "      <td>18.000000</td>\n",
              "      <td>2000.000000</td>\n",
              "      <td>-220.060000</td>\n",
              "    </tr>\n",
              "    <tr>\n",
              "      <th>25%</th>\n",
              "      <td>1.011081e+07</td>\n",
              "      <td>2705.000000</td>\n",
              "      <td>12.000000</td>\n",
              "      <td>206.437500</td>\n",
              "      <td>151.200000</td>\n",
              "      <td>5.000000</td>\n",
              "      <td>2016.000000</td>\n",
              "      <td>25.000000</td>\n",
              "      <td>8424.000000</td>\n",
              "      <td>28.012000</td>\n",
              "    </tr>\n",
              "    <tr>\n",
              "      <th>50%</th>\n",
              "      <td>1.022104e+07</td>\n",
              "      <td>7459.000000</td>\n",
              "      <td>22.440000</td>\n",
              "      <td>386.360000</td>\n",
              "      <td>282.480000</td>\n",
              "      <td>8.000000</td>\n",
              "      <td>2017.000000</td>\n",
              "      <td>33.000000</td>\n",
              "      <td>14685.000000</td>\n",
              "      <td>81.962000</td>\n",
              "    </tr>\n",
              "    <tr>\n",
              "      <th>75%</th>\n",
              "      <td>1.033094e+07</td>\n",
              "      <td>36078.000000</td>\n",
              "      <td>32.960000</td>\n",
              "      <td>583.660000</td>\n",
              "      <td>413.683200</td>\n",
              "      <td>11.000000</td>\n",
              "      <td>2018.000000</td>\n",
              "      <td>42.000000</td>\n",
              "      <td>21035.000000</td>\n",
              "      <td>190.030000</td>\n",
              "    </tr>\n",
              "    <tr>\n",
              "      <th>max</th>\n",
              "      <td>1.044011e+07</td>\n",
              "      <td>60000.000000</td>\n",
              "      <td>48.000000</td>\n",
              "      <td>2048.030000</td>\n",
              "      <td>691.200000</td>\n",
              "      <td>12.000000</td>\n",
              "      <td>2018.000000</td>\n",
              "      <td>65.000000</td>\n",
              "      <td>35000.000000</td>\n",
              "      <td>1463.966000</td>\n",
              "    </tr>\n",
              "    <tr>\n",
              "      <th>IQR</th>\n",
              "      <td>-2.201275e+05</td>\n",
              "      <td>-33373.000000</td>\n",
              "      <td>-20.960000</td>\n",
              "      <td>-377.222500</td>\n",
              "      <td>-262.483200</td>\n",
              "      <td>-6.000000</td>\n",
              "      <td>-2.000000</td>\n",
              "      <td>-17.000000</td>\n",
              "      <td>-12611.000000</td>\n",
              "      <td>-162.018000</td>\n",
              "    </tr>\n",
              "  </tbody>\n",
              "</table>\n",
              "</div>"
            ],
            "text/plain": [
              "       Transaction_ID    Customer_ID  ...        Income_         Profit\n",
              "count    3.593920e+05  359392.000000  ...  359392.000000  359392.000000\n",
              "mean     1.022076e+07   19191.652115  ...   15048.822937     137.253198\n",
              "std      1.268058e+05   21012.412463  ...    7969.409482     160.311840\n",
              "min      1.000001e+07       1.000000  ...    2000.000000    -220.060000\n",
              "25%      1.011081e+07    2705.000000  ...    8424.000000      28.012000\n",
              "50%      1.022104e+07    7459.000000  ...   14685.000000      81.962000\n",
              "75%      1.033094e+07   36078.000000  ...   21035.000000     190.030000\n",
              "max      1.044011e+07   60000.000000  ...   35000.000000    1463.966000\n",
              "IQR     -2.201275e+05  -33373.000000  ...  -12611.000000    -162.018000\n",
              "\n",
              "[9 rows x 10 columns]"
            ]
          },
          "metadata": {},
          "execution_count": 33
        }
      ],
      "source": [
        "des_stat=Data_Master.describe()\n",
        "des_stat=des_stat.append(IQR,ignore_index=False)\n",
        "des_stat"
      ]
    },
    {
      "cell_type": "code",
      "source": [
        "des_stat.head()"
      ],
      "metadata": {
        "colab": {
          "base_uri": "https://localhost:8080/",
          "height": 206
        },
        "id": "mSk6LQSpewf_",
        "outputId": "28c25ca6-6270-4a8e-9955-b1f2e9437596"
      },
      "execution_count": 38,
      "outputs": [
        {
          "output_type": "execute_result",
          "data": {
            "text/html": [
              "<div>\n",
              "<style scoped>\n",
              "    .dataframe tbody tr th:only-of-type {\n",
              "        vertical-align: middle;\n",
              "    }\n",
              "\n",
              "    .dataframe tbody tr th {\n",
              "        vertical-align: top;\n",
              "    }\n",
              "\n",
              "    .dataframe thead th {\n",
              "        text-align: right;\n",
              "    }\n",
              "</style>\n",
              "<table border=\"1\" class=\"dataframe\">\n",
              "  <thead>\n",
              "    <tr style=\"text-align: right;\">\n",
              "      <th></th>\n",
              "      <th>Customer_ID</th>\n",
              "      <th>KM_Travelled</th>\n",
              "      <th>Price_Charged</th>\n",
              "      <th>Cost_of_Trip</th>\n",
              "      <th>Month</th>\n",
              "      <th>Year</th>\n",
              "      <th>Age</th>\n",
              "      <th>Income_</th>\n",
              "      <th>Profit</th>\n",
              "    </tr>\n",
              "  </thead>\n",
              "  <tbody>\n",
              "    <tr>\n",
              "      <th>count</th>\n",
              "      <td>359392.000000</td>\n",
              "      <td>359392.000000</td>\n",
              "      <td>359392.000000</td>\n",
              "      <td>359392.000000</td>\n",
              "      <td>359392.000000</td>\n",
              "      <td>359392.000000</td>\n",
              "      <td>359392.000000</td>\n",
              "      <td>359392.000000</td>\n",
              "      <td>359392.000000</td>\n",
              "    </tr>\n",
              "    <tr>\n",
              "      <th>mean</th>\n",
              "      <td>19191.652115</td>\n",
              "      <td>22.567254</td>\n",
              "      <td>423.443311</td>\n",
              "      <td>286.190113</td>\n",
              "      <td>7.509243</td>\n",
              "      <td>2017.041693</td>\n",
              "      <td>35.336705</td>\n",
              "      <td>15048.822937</td>\n",
              "      <td>137.253198</td>\n",
              "    </tr>\n",
              "    <tr>\n",
              "      <th>std</th>\n",
              "      <td>21012.412463</td>\n",
              "      <td>12.233526</td>\n",
              "      <td>274.378911</td>\n",
              "      <td>157.993661</td>\n",
              "      <td>3.428929</td>\n",
              "      <td>0.801378</td>\n",
              "      <td>12.594234</td>\n",
              "      <td>7969.409482</td>\n",
              "      <td>160.311840</td>\n",
              "    </tr>\n",
              "    <tr>\n",
              "      <th>min</th>\n",
              "      <td>1.000000</td>\n",
              "      <td>1.900000</td>\n",
              "      <td>15.600000</td>\n",
              "      <td>19.000000</td>\n",
              "      <td>1.000000</td>\n",
              "      <td>2016.000000</td>\n",
              "      <td>18.000000</td>\n",
              "      <td>2000.000000</td>\n",
              "      <td>-220.060000</td>\n",
              "    </tr>\n",
              "    <tr>\n",
              "      <th>25%</th>\n",
              "      <td>2705.000000</td>\n",
              "      <td>12.000000</td>\n",
              "      <td>206.437500</td>\n",
              "      <td>151.200000</td>\n",
              "      <td>5.000000</td>\n",
              "      <td>2016.000000</td>\n",
              "      <td>25.000000</td>\n",
              "      <td>8424.000000</td>\n",
              "      <td>28.012000</td>\n",
              "    </tr>\n",
              "  </tbody>\n",
              "</table>\n",
              "</div>"
            ],
            "text/plain": [
              "         Customer_ID   KM_Travelled  ...        Income_         Profit\n",
              "count  359392.000000  359392.000000  ...  359392.000000  359392.000000\n",
              "mean    19191.652115      22.567254  ...   15048.822937     137.253198\n",
              "std     21012.412463      12.233526  ...    7969.409482     160.311840\n",
              "min         1.000000       1.900000  ...    2000.000000    -220.060000\n",
              "25%      2705.000000      12.000000  ...    8424.000000      28.012000\n",
              "\n",
              "[5 rows x 9 columns]"
            ]
          },
          "metadata": {},
          "execution_count": 38
        }
      ]
    },
    {
      "cell_type": "code",
      "execution_count": 39,
      "metadata": {
        "id": "ilTURwJdnXqK"
      },
      "outputs": [],
      "source": [
        "Data_Master.to_csv('G2M Insight for Cab Inv.csv')"
      ]
    },
    {
      "cell_type": "code",
      "execution_count": 40,
      "metadata": {
        "colab": {
          "base_uri": "https://localhost:8080/",
          "height": 206
        },
        "id": "Jqh1oj0wAucZ",
        "outputId": "df1a4725-0fc6-4757-9efa-6f7db141575a"
      },
      "outputs": [
        {
          "output_type": "execute_result",
          "data": {
            "text/html": [
              "<div>\n",
              "<style scoped>\n",
              "    .dataframe tbody tr th:only-of-type {\n",
              "        vertical-align: middle;\n",
              "    }\n",
              "\n",
              "    .dataframe tbody tr th {\n",
              "        vertical-align: top;\n",
              "    }\n",
              "\n",
              "    .dataframe thead th {\n",
              "        text-align: right;\n",
              "    }\n",
              "</style>\n",
              "<table border=\"1\" class=\"dataframe\">\n",
              "  <thead>\n",
              "    <tr style=\"text-align: right;\">\n",
              "      <th></th>\n",
              "      <th>Transaction_ID</th>\n",
              "      <th>Customer_ID</th>\n",
              "      <th>Company</th>\n",
              "      <th>City</th>\n",
              "      <th>KM_Travelled</th>\n",
              "      <th>Price_Charged</th>\n",
              "      <th>Cost_of_Trip</th>\n",
              "      <th>Month</th>\n",
              "      <th>Year</th>\n",
              "      <th>Payment_Mode</th>\n",
              "      <th>Gender</th>\n",
              "      <th>Age</th>\n",
              "      <th>Income_</th>\n",
              "      <th>Profit</th>\n",
              "    </tr>\n",
              "  </thead>\n",
              "  <tbody>\n",
              "    <tr>\n",
              "      <th>233</th>\n",
              "      <td>10000384</td>\n",
              "      <td>27602</td>\n",
              "      <td>Yellow Cab</td>\n",
              "      <td>ATLANTA GA</td>\n",
              "      <td>33.93</td>\n",
              "      <td>1341.17</td>\n",
              "      <td>464.1624</td>\n",
              "      <td>1</td>\n",
              "      <td>2016</td>\n",
              "      <td>Card</td>\n",
              "      <td>Male</td>\n",
              "      <td>23</td>\n",
              "      <td>8542</td>\n",
              "      <td>877.0076</td>\n",
              "    </tr>\n",
              "    <tr>\n",
              "      <th>234</th>\n",
              "      <td>10000385</td>\n",
              "      <td>27594</td>\n",
              "      <td>Yellow Cab</td>\n",
              "      <td>ATLANTA GA</td>\n",
              "      <td>42.18</td>\n",
              "      <td>1412.06</td>\n",
              "      <td>516.2832</td>\n",
              "      <td>1</td>\n",
              "      <td>2016</td>\n",
              "      <td>Cash</td>\n",
              "      <td>Male</td>\n",
              "      <td>28</td>\n",
              "      <td>3901</td>\n",
              "      <td>895.7768</td>\n",
              "    </tr>\n",
              "    <tr>\n",
              "      <th>235</th>\n",
              "      <td>10000386</td>\n",
              "      <td>27884</td>\n",
              "      <td>Yellow Cab</td>\n",
              "      <td>ATLANTA GA</td>\n",
              "      <td>10.60</td>\n",
              "      <td>364.62</td>\n",
              "      <td>132.2880</td>\n",
              "      <td>1</td>\n",
              "      <td>2016</td>\n",
              "      <td>Cash</td>\n",
              "      <td>Male</td>\n",
              "      <td>32</td>\n",
              "      <td>13505</td>\n",
              "      <td>232.3320</td>\n",
              "    </tr>\n",
              "    <tr>\n",
              "      <th>236</th>\n",
              "      <td>10000387</td>\n",
              "      <td>28533</td>\n",
              "      <td>Yellow Cab</td>\n",
              "      <td>ATLANTA GA</td>\n",
              "      <td>26.75</td>\n",
              "      <td>838.00</td>\n",
              "      <td>333.8400</td>\n",
              "      <td>1</td>\n",
              "      <td>2016</td>\n",
              "      <td>Cash</td>\n",
              "      <td>Male</td>\n",
              "      <td>39</td>\n",
              "      <td>28386</td>\n",
              "      <td>504.1600</td>\n",
              "    </tr>\n",
              "    <tr>\n",
              "      <th>237</th>\n",
              "      <td>10000388</td>\n",
              "      <td>29039</td>\n",
              "      <td>Yellow Cab</td>\n",
              "      <td>ATLANTA GA</td>\n",
              "      <td>46.02</td>\n",
              "      <td>1540.61</td>\n",
              "      <td>596.4192</td>\n",
              "      <td>1</td>\n",
              "      <td>2016</td>\n",
              "      <td>Card</td>\n",
              "      <td>Male</td>\n",
              "      <td>35</td>\n",
              "      <td>17761</td>\n",
              "      <td>944.1908</td>\n",
              "    </tr>\n",
              "  </tbody>\n",
              "</table>\n",
              "</div>"
            ],
            "text/plain": [
              "     Transaction_ID  Customer_ID     Company  ... Age  Income_    Profit\n",
              "233        10000384        27602  Yellow Cab  ...  23     8542  877.0076\n",
              "234        10000385        27594  Yellow Cab  ...  28     3901  895.7768\n",
              "235        10000386        27884  Yellow Cab  ...  32    13505  232.3320\n",
              "236        10000387        28533  Yellow Cab  ...  39    28386  504.1600\n",
              "237        10000388        29039  Yellow Cab  ...  35    17761  944.1908\n",
              "\n",
              "[5 rows x 14 columns]"
            ]
          },
          "metadata": {},
          "execution_count": 40
        }
      ],
      "source": [
        "Yellow_Cab = Data_Master[Data_Master['Company'] == 'Yellow Cab']\n",
        "Yellow_Cab.head()"
      ]
    },
    {
      "cell_type": "markdown",
      "metadata": {
        "id": "95oxRfuh1em9"
      },
      "source": [
        "#TESTING HYPOTHESIS"
      ]
    },
    {
      "cell_type": "code",
      "execution_count": 122,
      "metadata": {
        "colab": {
          "base_uri": "https://localhost:8080/"
        },
        "id": "DmZ9sABaG8w3",
        "outputId": "ab781322-a57d-456b-d15f-8a96d0eb888b"
      },
      "outputs": [
        {
          "output_type": "stream",
          "name": "stdout",
          "text": [
            "We accept null hypothesis that there is no statistical difference\n",
            "P value is  0.29330606382985325\n"
          ]
        }
      ],
      "source": [
        "#checking if there is difference in profit by mode of payment\n",
        "#Yellow Cab\n",
        "from scipy import stats\n",
        "a = Data_Master[(Data_Master.Payment_Mode=='Cash')&(Data_Master.Company=='Yellow Cab')].groupby('Transaction_ID').Profit.mean()\n",
        "b = Data_Master[(Data_Master.Payment_Mode=='Card')&(Data_Master.Company=='Yellow Cab')].groupby('Transaction_ID').Profit.mean()\n",
        "\n",
        "_, p_value = stats.ttest_ind(a.values,b=b.values,equal_var=True)\n",
        "if(p_value>0.05):\n",
        "    print('We accept null hypothesis that there is no statistical difference')\n",
        "else:\n",
        "    print('We accept alternative hypothesis that there is a statistical difference')\n",
        "    \n",
        "print('P value is ', p_value)"
      ]
    },
    {
      "cell_type": "code",
      "execution_count": 123,
      "metadata": {
        "colab": {
          "base_uri": "https://localhost:8080/"
        },
        "id": "wy3EJ_hg40Vj",
        "outputId": "deedfd24-58ce-415c-a964-64a040b7daa0"
      },
      "outputs": [
        {
          "output_type": "stream",
          "name": "stdout",
          "text": [
            "We accept null hypothesis that there is no statistical difference\n",
            "P value is  0.7900465828793288\n"
          ]
        }
      ],
      "source": [
        "#checking if there is difference in profit by mode of payment\n",
        "#Pink Cab\n",
        "\n",
        "a = Data_Master[(Data_Master.Payment_Mode=='Cash')&(Data_Master.Company=='Pink Cab')].groupby('Transaction_ID').Profit.mean()\n",
        "b = Data_Master[(Data_Master.Payment_Mode=='Card')&(Data_Master.Company=='Pink Cab')].groupby('Transaction_ID').Profit.mean()\n",
        "\n",
        "_, p_value = stats.ttest_ind(a.values,b=b.values,equal_var=True)\n",
        "if(p_value>0.05):\n",
        "    print('We accept null hypothesis that there is no statistical difference')\n",
        "else:\n",
        "    print('We accept alternative hypothesis that there is a statistical difference')\n",
        "    \n",
        "print('P value is ', p_value)"
      ]
    },
    {
      "cell_type": "code",
      "execution_count": 124,
      "metadata": {
        "colab": {
          "base_uri": "https://localhost:8080/"
        },
        "id": "hiYbvU7k5NAL",
        "outputId": "327b9972-ba6b-4d60-c03a-3ae756a01d3a"
      },
      "outputs": [
        {
          "output_type": "stream",
          "name": "stdout",
          "text": [
            "43201 231480\n",
            "Accept alternate hypothesis that theres a difference\n",
            "P value is  6.4942568177993685e-09\n"
          ]
        }
      ],
      "source": [
        "#Checking if profit is by age\n",
        "#Yellow Cab\n",
        "a = Data_Master[(Data_Master.Age>50)&(Data_Master.Company=='Yellow Cab')].groupby('Transaction_ID').Profit.mean()\n",
        "b = Data_Master[(Data_Master.Age<=50)&(Data_Master.Company=='Yellow Cab')].groupby('Transaction_ID').Profit.mean()\n",
        "print(a.shape[0],b.shape[0])\n",
        "\n",
        "from scipy import stats\n",
        "_, p_value = stats.ttest_ind(a.values,b=b.values,equal_var=True)\n",
        "if(p_value<0.05):\n",
        "    print('Accept alternate hypothesis that theres a difference')\n",
        "else:\n",
        "    print('Accept null hypothesis that there is no difference')\n",
        "    \n",
        "print('P value is ', p_value)"
      ]
    },
    {
      "cell_type": "code",
      "execution_count": 125,
      "metadata": {
        "colab": {
          "base_uri": "https://localhost:8080/"
        },
        "id": "0jm6gIhN6nDS",
        "outputId": "874fb237-34d5-40a5-e054-e8e9c6183b8d"
      },
      "outputs": [
        {
          "output_type": "stream",
          "name": "stdout",
          "text": [
            "13483 71228\n",
            "Accept null hypothesis that there is no difference\n",
            "P value is  0.3281748754798163\n"
          ]
        }
      ],
      "source": [
        "#Pink Cab\n",
        "a = Data_Master[(Data_Master.Age>50)&(Data_Master.Company=='Pink Cab')].groupby('Transaction_ID').Profit.mean()\n",
        "b = Data_Master[(Data_Master.Age<=50)&(Data_Master.Company=='Pink Cab')].groupby('Transaction_ID').Profit.mean()\n",
        "print(a.shape[0],b.shape[0])\n",
        "\n",
        "from scipy import stats\n",
        "_, p_value = stats.ttest_ind(a.values,b=b.values,equal_var=True)\n",
        "if(p_value<0.05):\n",
        "    print('Accept alternate hypothesis that theres a difference')\n",
        "else:\n",
        "    print('Accept null hypothesis that there is no difference')\n",
        "    \n",
        "print('P value is ', p_value)"
      ]
    },
    {
      "cell_type": "code",
      "execution_count": 126,
      "metadata": {
        "colab": {
          "base_uri": "https://localhost:8080/"
        },
        "id": "0RM_Q-4p95CW",
        "outputId": "4bbb887e-6e07-4c18-b756-55f6dc305b0a"
      },
      "outputs": [
        {
          "output_type": "execute_result",
          "data": {
            "text/plain": [
              "Company\n",
              "Pink Cab       62.156779\n",
              "Yellow Cab    157.482752\n",
              "Name: Profit, dtype: float64"
            ]
          },
          "metadata": {},
          "execution_count": 126
        }
      ],
      "source": [
        "#Checking if profit made is age based\n",
        "Data_Master[Data_Master.Age<50].groupby('Company').Profit.mean()\n",
        "Data_Master[Data_Master.Age>=50].groupby('Company').Profit.mean()"
      ]
    },
    {
      "cell_type": "code",
      "execution_count": 127,
      "metadata": {
        "colab": {
          "base_uri": "https://localhost:8080/"
        },
        "id": "pNJOtcCZ-4Dz",
        "outputId": "bdc16237-295a-45e1-c2f5-931f8e07c6f0"
      },
      "outputs": [
        {
          "output_type": "stream",
          "name": "stdout",
          "text": [
            "116000 158681\n",
            "We accept alternate hypothesis that there is a statistical difference\n",
            "P value is  6.060473042494144e-25\n"
          ]
        }
      ],
      "source": [
        "#Checking if profit has effect on gender for Yellow Cab\n",
        "a = Data_Master[(Data_Master.Gender=='Female')&(Data_Master.Company=='Yellow Cab')].groupby('Transaction_ID').Profit.mean()\n",
        "b = Data_Master[(Data_Master.Gender=='Male')&(Data_Master.Company=='Yellow Cab')].groupby('Transaction_ID').Profit.mean()\n",
        "print(a.shape[0],b.shape[0])\n",
        "\n",
        "from scipy import stats\n",
        "_, p_value = stats.ttest_ind(a.values,b=b.values,equal_var=True)\n",
        "if(p_value<0.05):\n",
        "    print('We accept alternate hypothesis that there is a statistical difference')\n",
        "else:\n",
        "    print('We accept null hypothesis that there is no statistical difference')\n",
        "    \n",
        "print('P value is ', p_value)\n"
      ]
    },
    {
      "cell_type": "code",
      "execution_count": 128,
      "metadata": {
        "colab": {
          "base_uri": "https://localhost:8080/"
        },
        "id": "Xw74eohm_9sM",
        "outputId": "5f32ce71-a387-4333-c660-bb369c4ee6ae"
      },
      "outputs": [
        {
          "output_type": "stream",
          "name": "stdout",
          "text": [
            "37480 47231\n",
            "We accept null hypothesis that there is no statistical difference\n",
            "P value is  0.11515305900425798\n"
          ]
        }
      ],
      "source": [
        "#Checking if profit had effect on gender for Pink Cab\n",
        "a = Data_Master[(Data_Master.Gender=='Female')&(Data_Master.Company== 'Pink Cab')].groupby('Transaction_ID').Profit.mean()\n",
        "b = Data_Master[(Data_Master.Gender=='Male')&(Data_Master.Company=='Pink Cab')].groupby('Transaction_ID').Profit.mean()\n",
        "print(a.shape[0],b.shape[0])\n",
        "\n",
        "from scipy import stats\n",
        "_, p_value = stats.ttest_ind(a.values,b=b.values,equal_var=True)\n",
        "if(p_value<0.05):\n",
        "    print('We accept alternate hypothesis that there is a statistical difference')\n",
        "else:\n",
        "    print('We accept null hypothesis that there is no statistical difference')\n",
        "    \n",
        "print('P value is ', p_value)"
      ]
    },
    {
      "cell_type": "code",
      "execution_count": 129,
      "metadata": {
        "colab": {
          "base_uri": "https://localhost:8080/"
        },
        "id": "TLv2b-7xINUs",
        "outputId": "76cccdb9-3f43-472b-b0f1-7fa32e6ae03f"
      },
      "outputs": [
        {
          "output_type": "stream",
          "name": "stdout",
          "text": [
            "37480 47231\n",
            "We accept null hypothesis that there is no statistical difference\n",
            "P value is  0.8019871421072007\n"
          ]
        }
      ],
      "source": [
        "#Checking if Gender had effect on the price charged Pink Cab\n",
        "a = Data_Master[(Data_Master.Gender=='Female')&(Data_Master.Company=='Pink Cab')].groupby('Transaction_ID').Price_Charged.mean()\n",
        "b = Data_Master[(Data_Master.Gender=='Male')&(Data_Master.Company=='Pink Cab')].groupby('Transaction_ID').Price_Charged.mean()\n",
        "print(a.shape[0],b.shape[0])\n",
        "\n",
        "from scipy import stats\n",
        "_, p_value = stats.ttest_ind(a.values,b=b.values,equal_var=True)\n",
        "if(p_value<0.05):\n",
        "    print('We accept alternate hypothesis that there is a statistical difference')\n",
        "else:\n",
        "    print('We accept null hypothesis that there is no statistical difference')\n",
        "    \n",
        "print('P value is ', p_value)\n"
      ]
    },
    {
      "cell_type": "code",
      "execution_count": 130,
      "metadata": {
        "colab": {
          "base_uri": "https://localhost:8080/"
        },
        "id": "IlwY7Qg0KxlW",
        "outputId": "e32e732d-74a1-4eb1-f612-b3faec1d54ba"
      },
      "outputs": [
        {
          "output_type": "stream",
          "name": "stdout",
          "text": [
            "116000 158681\n",
            "We accept alternate hypothesis that there is a statistical difference\n",
            "P value is  2.0207950578635145e-08\n"
          ]
        }
      ],
      "source": [
        "#Checking if Gender had effect on the price charged Yellow Cab\n",
        "a = Data_Master[(Data_Master.Gender=='Female')&(Data_Master.Company=='Yellow Cab')].groupby('Transaction_ID').Price_Charged.mean()\n",
        "b = Data_Master[(Data_Master.Gender=='Male')&(Data_Master.Company=='Yellow Cab')].groupby('Transaction_ID').Price_Charged.mean()\n",
        "print(a.shape[0],b.shape[0])\n",
        "\n",
        "from scipy import stats\n",
        "_, p_value = stats.ttest_ind(a.values,b=b.values,equal_var=True)\n",
        "if(p_value<0.05):\n",
        "    print('We accept alternate hypothesis that there is a statistical difference')\n",
        "else:\n",
        "    print('We accept null hypothesis that there is no statistical difference')\n",
        "    \n",
        "print('P value is ', p_value)"
      ]
    }
  ],
  "metadata": {
    "colab": {
      "collapsed_sections": [],
      "name": "G2M insight for Cab Investment firm.ipynb",
      "provenance": [],
      "authorship_tag": "ABX9TyMBFch3UZPHboKL/fFjpWW2",
      "include_colab_link": true
    },
    "kernelspec": {
      "display_name": "Python 3",
      "name": "python3"
    },
    "language_info": {
      "name": "python"
    }
  },
  "nbformat": 4,
  "nbformat_minor": 0
}